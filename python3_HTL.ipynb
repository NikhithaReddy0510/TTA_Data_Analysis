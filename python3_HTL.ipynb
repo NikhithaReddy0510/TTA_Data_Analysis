{
 "cells": [
  {
   "cell_type": "markdown",
   "metadata": {},
   "source": [
    "# Task1\n",
    "Write a program that allows you to enter 4 numbers \n",
    "and stores them in a file called “Numbers”\n",
    "• 3\n",
    "• 45\n",
    "• 83\n",
    "• 21\n",
    "Have a go at ‘w’ ‘r’ ‘a’"
   ]
  },
  {
   "cell_type": "code",
   "execution_count": 2,
   "metadata": {},
   "outputs": [
    {
     "name": "stdout",
     "output_type": "stream",
     "text": [
      "please enter your First number: 3\n",
      "please enter your Second number: 45\n",
      "please enter your Third number: 83\n",
      "please enter your Fourth number: 21\n"
     ]
    }
   ],
   "source": [
    "# Write(w) - Opening a file and allowing to enter 4 Numbers.\n",
    "\n",
    "with open('my_file.txt', mode='w') as numbers:\n",
    "    numbers.write(f'{input(\"please enter your First number: \")}\\n')\n",
    "    numbers.write(f'{input(\"please enter your Second number: \")}\\n')\n",
    "    numbers.write(f'{input(\"please enter your Third number: \")}\\n')\n",
    "    numbers.write(f'{input(\"please enter your Fourth number: \")}\\n')\n",
    "    \n",
    "numbers.close()"
   ]
  },
  {
   "cell_type": "code",
   "execution_count": 3,
   "metadata": {},
   "outputs": [
    {
     "name": "stdout",
     "output_type": "stream",
     "text": [
      "please enter number to append to file: 9\n"
     ]
    }
   ],
   "source": [
    "# Append(a) - Adding new entry to the file\n",
    "\n",
    "numbers = open(\"my_file.txt\", mode='a')\n",
    "\n",
    "numbers.write(f'{input(\"please enter number to append to file: \")}')\n",
    "\n",
    "numbers.close()"
   ]
  },
  {
   "cell_type": "code",
   "execution_count": 4,
   "metadata": {},
   "outputs": [
    {
     "name": "stdout",
     "output_type": "stream",
     "text": [
      "3\n",
      "45\n",
      "83\n",
      "21\n",
      "9\n"
     ]
    }
   ],
   "source": [
    "# Read(r) - Reading a file.\n",
    "\n",
    "with open('my_file.txt', mode='r') as numbers:\n",
    "    print(numbers.read())\n",
    "numbers.close()"
   ]
  },
  {
   "cell_type": "markdown",
   "metadata": {},
   "source": [
    "# Task 2\n",
    "Write a program to ask a student for their percentage mark and convert this to a grade. \n",
    "The conversion will be done in a function called mark_grade."
   ]
  },
  {
   "cell_type": "code",
   "execution_count": 5,
   "metadata": {},
   "outputs": [],
   "source": [
    "# Following function (mark_grade) shows the percent and grade. \n",
    "\n",
    "def mark_grade(percent):\n",
    "    \n",
    "# Using if condition to return 'grade' based on their 'percent'.\n",
    "    if percent >= 85:\n",
    "        print(\"You scored 85% and above, so your grade is A\")\n",
    "        return \"A\"\n",
    "    elif percent >= 75 and percent <=85:\n",
    "        print(\"You scored 75% and above, so your grade is A\")\n",
    "        return \"A\"\n",
    "    elif percent >= 65 and percent <=75:\n",
    "        print(\"You scored 65% and above, so your grade is B\")\n",
    "        return \"B\"\n",
    "    elif percent >= 55 and percent <=65:\n",
    "        print(\"You scored 55% and above, so your grade is B\")\n",
    "        return \"B\"\n",
    "    elif percent >= 45 and percent <=55:\n",
    "        print(\"You scored 45% and above, so your grade is C\")\n",
    "        return \"C\"\n",
    "    elif percent >= 36 and percent <=45:\n",
    "        print(\"You scored 35% and above, so your grade is D\")\n",
    "        return \"C\"\n",
    "    elif percent <= 35:\n",
    "        print(\"You scored less than 35% so you are Failed\")\n",
    "        return \"D\"\n",
    "    "
   ]
  },
  {
   "cell_type": "code",
   "execution_count": 6,
   "metadata": {},
   "outputs": [
    {
     "name": "stdout",
     "output_type": "stream",
     "text": [
      "What is you percentage ?: 75\n",
      "You scored 75% and above, so your grade is A\n"
     ]
    }
   ],
   "source": [
    "marks = int(input(\"What is you percentage ?: \"))\n",
    "grade = mark_grade(marks)"
   ]
  },
  {
   "cell_type": "markdown",
   "metadata": {},
   "source": [
    "# Extention of Task2\n",
    "Ask the user for their target grade and print this with their mark\n",
    "• If their target grade > exam grade display a suitable message\n",
    "• If their target grade = exam grade display a suitable message\n",
    "• If their target grade < exam grade display a suitable message"
   ]
  },
  {
   "cell_type": "code",
   "execution_count": 8,
   "metadata": {
    "scrolled": true
   },
   "outputs": [
    {
     "name": "stdout",
     "output_type": "stream",
     "text": [
      "What grade were you aiming for? : B\n",
      "You got higher than you expected! Good job!\n",
      "Your grade is  A and you were aiming for B\n"
     ]
    }
   ],
   "source": [
    "target = input(\"What grade were you aiming for? : \")\n",
    "\n",
    "# Using if condition to display a suitable message based on 'grades'.\n",
    "\n",
    "if target == grade:\n",
    "    print(\"Well done! you reached your expected grade!\")\n",
    "    print(\"Your grade is \", grade, \"and you were aiming for\", target )\n",
    "elif target == \"A\" and grade == \"B\":\n",
    "    print(\"Congrajulations, Great work! \")\n",
    "    print(\"Your grade is \", grade, \"and you were aiming for\", target)\n",
    "elif target == \"B\" and grade == \"C\":\n",
    "    print(\"Congrajulations, Can do better! \")\n",
    "    print(\"Your grade is \", grade, \"and you were aiming for\", target)\n",
    "elif target == \"C\" and grade == \"D\":\n",
    "    print(\"Congrajulations, Need to do hard work! \")\n",
    "    print(\"Your grade is \", grade, \"and you were aiming for\", target)\n",
    "else:\n",
    "    print(\"You got higher than you expected! Good job!\")\n",
    "    print(\"Your grade is \", grade, \"and you were aiming for\", target)"
   ]
  },
  {
   "cell_type": "code",
   "execution_count": null,
   "metadata": {},
   "outputs": [],
   "source": []
  }
 ],
 "metadata": {
  "kernelspec": {
   "display_name": "Python 3",
   "language": "python",
   "name": "python3"
  },
  "language_info": {
   "codemirror_mode": {
    "name": "ipython",
    "version": 3
   },
   "file_extension": ".py",
   "mimetype": "text/x-python",
   "name": "python",
   "nbconvert_exporter": "python",
   "pygments_lexer": "ipython3",
   "version": "3.8.3"
  }
 },
 "nbformat": 4,
 "nbformat_minor": 4
}
