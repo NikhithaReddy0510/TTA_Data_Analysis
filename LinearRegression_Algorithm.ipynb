{
 "cells": [
  {
   "cell_type": "markdown",
   "metadata": {},
   "source": [
    "# Linear Regression"
   ]
  },
  {
   "cell_type": "code",
   "execution_count": 1,
   "metadata": {},
   "outputs": [],
   "source": [
    "# Importing the libraries\n",
    "import numpy as np\n",
    "import matplotlib.pyplot as plt\n",
    "import pandas as pd\n",
    "import seaborn as sns\n",
    "%matplotlib inline"
   ]
  },
  {
   "cell_type": "code",
   "execution_count": 3,
   "metadata": {},
   "outputs": [],
   "source": [
    "# Importing the dataset and Extracting the Independent and Dependent variables\n",
    "companies = pd.read_csv(\"C:\\\\Users\\\\nikit\\\\Desktop\\\\Bootcamp_Notes\\\\Week7_Session\\\\LinearRegression_Dataset.csv\")\n",
    "X = companies.iloc[:, :-1].values\n",
    "y = companies.iloc[:, 4].values"
   ]
  },
  {
   "cell_type": "code",
   "execution_count": 4,
   "metadata": {},
   "outputs": [
    {
     "data": {
      "text/plain": [
       "<AxesSubplot:>"
      ]
     },
     "execution_count": 4,
     "metadata": {},
     "output_type": "execute_result"
    },
    {
     "data": {
      "image/png": "[encoded data removed]",
      "text/plain": [
       "<Figure size 432x288 with 2 Axes>"
      ]
     },
     "metadata": {
      "needs_background": "light"
     },
     "output_type": "display_data"
    }
   ],
   "source": [
    "# Data Visualisation\n",
    "# Building the Correlation matrix\n",
    "sns.heatmap(companies.corr())"
   ]
  },
  {
   "cell_type": "code",
   "execution_count": null,
   "metadata": {},
   "outputs": [],
   "source": [
    "# Encoding categorical data\n",
    "from sklearn.preprocessing import LabelEncoder, OneHotEncoder\n",
    "labelencoder = LabelEncoder()\n",
    "X[:, 3] = labelencoder.fit_transform(X[:, 3])\n",
    "onehotencoder = OneHotEncoder(categorical_features = [3])\n",
    "X = onehotencoder.fit_transform(X).toarray()"
   ]
  },
  {
   "cell_type": "code",
   "execution_count": 6,
   "metadata": {},
   "outputs": [],
   "source": [
    "# Avoiding the Dummy Variable Trap\n",
    "X = X[:, 1:]"
   ]
  },
  {
   "cell_type": "code",
   "execution_count": 7,
   "metadata": {},
   "outputs": [],
   "source": [
    "# Splitting the dataset into the Training set and Test set\n",
    "from sklearn.model_selection import train_test_split\n",
    "X_train, X_test, y_train, y_test = train_test_split(X, y, test_size = 0.2, random_state = 0)"
   ]
  },
  {
   "cell_type": "code",
   "execution_count": 8,
   "metadata": {},
   "outputs": [
    {
     "data": {
      "text/plain": [
       "LinearRegression()"
      ]
     },
     "execution_count": 8,
     "metadata": {},
     "output_type": "execute_result"
    }
   ],
   "source": [
    "# Fitting Multiple Linear Regression to the Training set\n",
    "from sklearn.linear_model import LinearRegression\n",
    "regressor = LinearRegression()\n",
    "regressor.fit(X_train, y_train)"
   ]
  },
  {
   "cell_type": "code",
   "execution_count": 9,
   "metadata": {},
   "outputs": [
    {
     "data": {
      "text/plain": [
       "array([ 90209.64901318,  88876.28325862,  95200.74973042, 174739.58503941,\n",
       "        84013.74722284, 110572.81423949, 169438.58451208,  91855.1682484 ,\n",
       "       163402.29005648,  54991.76617392,  67874.72481309, 150180.9861358 ,\n",
       "       126512.60670878,  60430.86889281, 175991.46628657,  76097.46542299,\n",
       "       118577.95366564, 163338.33779446, 165329.70854714, 180487.66382609,\n",
       "       101238.40282718,  86180.18269683, 179933.75346041,  84689.06190888,\n",
       "       105088.13051962, 101399.34780971,  40828.42858138,  58070.59626831,\n",
       "        69777.85472814, 226802.72627013, 121052.52594777, 111658.45981284,\n",
       "       101689.86321283, 137852.59801618,  64960.45224275, 108854.95146996,\n",
       "       184345.94907957, 170595.15880734, 173725.92497117, 118014.06326024,\n",
       "        97038.60706862, 164196.76013804, 107746.47058118,  52030.50278345,\n",
       "       116882.08703837,  59741.11018494, 157857.27897357,  79750.07622713,\n",
       "       159139.45816291, 131182.41311202, 183735.81760226, 173691.52102156,\n",
       "        94077.16471212,  79055.37228415, 179193.73688257,  85539.18255677,\n",
       "       142685.10466661, 169290.41285941,  84946.0123958 , 105424.79762652,\n",
       "       141471.73344522,  53812.88851425, 141109.98209805, 138544.12449302,\n",
       "        98525.35315256, 114019.84013539, 126396.98673988, 151216.5527697 ,\n",
       "        60009.80841183, 173375.17181713, 124272.14963365, 167730.30512327,\n",
       "        92206.01101456, 155162.10688204,  84847.65607993,  78602.24617494,\n",
       "       120695.89889888,  93761.83359006, 138350.10811473, 142832.70064453,\n",
       "       170307.33979742, 139388.94182688, 106463.63123443, 154603.07232232,\n",
       "       139379.05136376, 110182.62230992,  70537.26059843,  88645.70361798,\n",
       "       139438.45008128, 147641.05170022, 156869.72126349,  59643.77197986,\n",
       "        94081.53927638, 113100.16181875,  57752.56877436, 107485.68247072,\n",
       "       147038.4722533 , 151224.944042  , 166542.28652602, 118528.35593888,\n",
       "       121037.42174722, 138899.82289638, 156489.59877727, 122209.67591778,\n",
       "        87611.90462751, 105420.51243038,  95673.35467317, 176889.50642142,\n",
       "       180322.17764231, 109848.65149198, 164002.92284422, 166498.47315072,\n",
       "       156953.6334675 , 173362.67443317, 168836.26856357,  53550.90329145,\n",
       "       175428.41512306, 104839.75018099,  83286.04901321, 138264.69665116,\n",
       "       144028.53976029, 161047.62283516, 168853.97964945, 120731.98115931,\n",
       "       158311.24418492, 110180.76505437, 168367.37799216,  61822.13404496,\n",
       "       157923.48016043, 157075.12729573, 173097.51172293, 155283.77969052,\n",
       "       103825.25107934,  86188.75284512, 140875.86692656, 164693.69969128,\n",
       "       121446.91360112, 176415.2867655 , 101228.25635896,  83227.39996098,\n",
       "       177095.75155581, 101943.93836181,  71395.02274908,  90700.7147071 ,\n",
       "        62340.05164744,  69835.09399318,  74112.01200262, 175404.91965022,\n",
       "        90666.22114537, 150611.55534056,  93568.74599705,  63961.30747995,\n",
       "       171417.40945363,  61952.19803214, 168222.12034272, 165172.65956631,\n",
       "       164711.23169268, 102856.15401618, 180023.62903163,  75018.26432529,\n",
       "        91653.77885545, 135192.49017143,  65934.01337805,  72635.24588968,\n",
       "        61710.70977498, 183156.8229963 , 175332.00553509, 157838.90773028,\n",
       "       140678.85216661, 153637.42131765,  59701.85037545,  91559.88668045,\n",
       "       151949.94585843, 167617.95209287,  73329.20016737, 116442.3868544 ,\n",
       "        81262.17503945, 148960.9914253 , 116669.87853678, 129716.3764601 ,\n",
       "       173618.51732983, 298075.79813027, 145439.85431614, 149760.67520877,\n",
       "        87148.61949834,  71365.56394454,  71492.27147469,  69912.11428869,\n",
       "       120444.25162176,  90141.01995445, 166079.00146558, 125143.15876482,\n",
       "        68170.27493788, 143636.00582325, 118326.96654593, 164632.26473798,\n",
       "       167869.68891337, 146162.33882386, 140714.93439153, 109120.29312493])"
      ]
     },
     "execution_count": 9,
     "metadata": {},
     "output_type": "execute_result"
    }
   ],
   "source": [
    "# Predicting the Test set results\n",
    "y_pred = regressor.predict(X_test)\n",
    "y_pred"
   ]
  },
  {
   "cell_type": "code",
   "execution_count": 10,
   "metadata": {},
   "outputs": [
    {
     "name": "stdout",
     "output_type": "stream",
     "text": [
      "[   1.04239904    0.35510511 -320.45531609]\n"
     ]
    }
   ],
   "source": [
    "# Calculating the Coefficients\n",
    "print(regressor.coef_)"
   ]
  },
  {
   "cell_type": "code",
   "execution_count": 11,
   "metadata": {},
   "outputs": [
    {
     "name": "stdout",
     "output_type": "stream",
     "text": [
      "-88623.76527343795\n"
     ]
    }
   ],
   "source": [
    "# Calculating the Intercept\n",
    "print(regressor.intercept_)"
   ]
  },
  {
   "cell_type": "code",
   "execution_count": 12,
   "metadata": {},
   "outputs": [
    {
     "data": {
      "text/plain": [
       "0.8985038788872524"
      ]
     },
     "execution_count": 12,
     "metadata": {},
     "output_type": "execute_result"
    }
   ],
   "source": [
    "# Calculating the R squared value\n",
    "from sklearn.metrics import r2_score\n",
    "r2_score(y_test, y_pred)"
   ]
  },
  {
   "cell_type": "code",
   "execution_count": null,
   "metadata": {},
   "outputs": [],
   "source": []
  },
  {
   "cell_type": "code",
   "execution_count": null,
   "metadata": {},
   "outputs": [],
   "source": []
  }
 ],
 "metadata": {
  "kernelspec": {
   "display_name": "Python 3",
   "language": "python",
   "name": "python3"
  },
  "language_info": {
   "codemirror_mode": {
    "name": "ipython",
    "version": 3
   },
   "file_extension": ".py",
   "mimetype": "text/x-python",
   "name": "python",
   "nbconvert_exporter": "python",
   "pygments_lexer": "ipython3",
   "version": "3.8.3"
  }
 },
 "nbformat": 4,
 "nbformat_minor": 4
}
