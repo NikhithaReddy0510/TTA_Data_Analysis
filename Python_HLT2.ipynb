{
 "cells": [
  {
   "cell_type": "markdown",
   "metadata": {},
   "source": [
    "# Task1\n",
    "Create your own Flow Diagram, a subject of your own choice, Example: Fast food order and convert it into code.\n",
    "Ex: Finding the given number is even or odd. "
   ]
  },
  {
   "cell_type": "code",
   "execution_count": 3,
   "metadata": {},
   "outputs": [
    {
     "name": "stdout",
     "output_type": "stream",
     "text": [
      "Enter any number: 6\n",
      "Given number is even:  6\n"
     ]
    }
   ],
   "source": [
    "# Asking the user to enter some number.\n",
    "number = int(input(\"Enter any number: \"))\n",
    "\n",
    "#Creating an if statement to check whether the given number is even or odd.\n",
    "if number % 2 == 0:\n",
    "    print(\"Given number is even: \", number)\n",
    "else:\n",
    "    print(\"Given number is odd: \", number)"
   ]
  },
  {
   "cell_type": "markdown",
   "metadata": {},
   "source": [
    "# Task 2 \n",
    "As an extension to the motorbike task that costs £2000 and loses 10% of its value every year. Set up a function that performs the calculation by passing in parameters. Then using a loop, print the value of the bike every following year until it falls below £1000."
   ]
  },
  {
   "cell_type": "code",
   "execution_count": 1,
   "metadata": {},
   "outputs": [
    {
     "name": "stdout",
     "output_type": "stream",
     "text": [
      "In the year 2021 The bike is worth: 2000\n",
      "In the year 2022 The bike is worth: 1800.0\n",
      "In the year 2023 The bike is worth: 1620.0\n",
      "In the year 2024 The bike is worth: 1458.0\n",
      "In the year 2025 The bike is worth: 1312.2\n",
      "In the year 2026 The bike is worth: 1180.98\n",
      "In the year 2027 The bike is worth: 1062.882\n"
     ]
    },
    {
     "data": {
      "text/plain": [
       "(956.5938000000001, 2028)"
      ]
     },
     "execution_count": 1,
     "metadata": {},
     "output_type": "execute_result"
    }
   ],
   "source": [
    "# Outside of the function, Storing the value of the bike against a variable.\n",
    "bike_price = 2000\n",
    "year      = 2021\n",
    "\n",
    "# Define your function and state which parameters you want to pass in.\n",
    "def func_bike_price(bike_price, year):\n",
    "    \n",
    "# Create a while loop which subtracts 10% of the bikes value untill the value reaches £1000 and year increment.   \n",
    "    while bike_price > 1000 :\n",
    "        print(\"In the year\", year , \"The bike is worth:\", bike_price)\n",
    "        bike_price *= 0.90\n",
    "        year += 1\n",
    "\n",
    "# Setting up a return.       \n",
    "    return bike_price, year\n",
    "\n",
    "# Calling function and passing parameters.\n",
    "func_bike_price(bike_price, year)"
   ]
  },
  {
   "cell_type": "markdown",
   "metadata": {},
   "source": [
    "# Task 3 \n",
    "Write a program which will ask for two numbers from a user. Then offer an option menu to the user giving them a choice of maths operators. Once the user has selected which operator they wish to use, perform the calculation by using a procedure and passing parameters."
   ]
  },
  {
   "cell_type": "code",
   "execution_count": 2,
   "metadata": {},
   "outputs": [
    {
     "name": "stdout",
     "output_type": "stream",
     "text": [
      "Enter your First number 5\n",
      "Enter your Second number 9\n",
      "Please choose an operator (+,-,/,*,**,%,//) *\n",
      "45\n"
     ]
    }
   ],
   "source": [
    "# Asking the user to enter two numbers.\n",
    "number_1 = int(input(\"Enter your First number \")) \n",
    "number_2 = int(input(\"Enter your Second number \"))\n",
    "\n",
    "# Asking the user to choose an operator.\n",
    "sign = input(\"Please choose an operator (+,-,/,*,**,%,//) \")\n",
    "\n",
    "# Define your procedure and state your parameters. def procedure_name(passing parameters)\n",
    "def operators(number_1, number_2):\n",
    "    \n",
    "# Create an IF statement to carry out the math operation using the users choice of numbers and choice of operator.    \n",
    "    if sign == \"+\":\n",
    "        print( number_1 + number_2)\n",
    "    elif sign == \"-\":\n",
    "        print(number_1 - number_2)\n",
    "    elif sign == \"/\":\n",
    "        print(number_1 / number_2)\n",
    "    elif sign == \"*\":\n",
    "        print(number_1 * number_2)\n",
    "    elif sign == \"**\":\n",
    "        print(number_1 ** number_2)\n",
    "    elif sign == \"%\":\n",
    "        print(number_1 % number_2)\n",
    "    elif sign == \"//\":\n",
    "        print(number_1 // number_2)\n",
    "    else:\n",
    "        print(\"An appropriate operator was not selected!\")\n",
    "\n",
    "# Calling procedure and passing the parameters you want to use.        \n",
    "operators(number_1, number_2)"
   ]
  },
  {
   "cell_type": "code",
   "execution_count": null,
   "metadata": {},
   "outputs": [],
   "source": []
  },
  {
   "cell_type": "code",
   "execution_count": null,
   "metadata": {},
   "outputs": [],
   "source": []
  },
  {
   "cell_type": "code",
   "execution_count": null,
   "metadata": {},
   "outputs": [],
   "source": []
  }
 ],
 "metadata": {
  "kernelspec": {
   "display_name": "Python 3",
   "language": "python",
   "name": "python3"
  },
  "language_info": {
   "codemirror_mode": {
    "name": "ipython",
    "version": 3
   },
   "file_extension": ".py",
   "mimetype": "text/x-python",
   "name": "python",
   "nbconvert_exporter": "python",
   "pygments_lexer": "ipython3",
   "version": "3.8.3"
  }
 },
 "nbformat": 4,
 "nbformat_minor": 4
}
