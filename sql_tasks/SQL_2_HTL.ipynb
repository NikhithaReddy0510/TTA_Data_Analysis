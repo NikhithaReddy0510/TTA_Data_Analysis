{
    "metadata": {
        "kernelspec": {
            "name": "SQL",
            "display_name": "SQL",
            "language": "sql"
        },
        "language_info": {
            "name": "sql",
            "version": ""
        }
    },
    "nbformat_minor": 2,
    "nbformat": 4,
    "cells": [
        {
            "cell_type": "markdown",
            "source": [
                "1) Create a relational database (2 tables) of your own choice. It is must be a meaningful/thought out database."
            ],
            "metadata": {
                "azdata_cell_guid": "e76790ac-1e21-49da-8048-49479b37d7bf"
            }
        },
        {
            "cell_type": "code",
            "source": [
                "CREATE TABLE employer_table(\r\n",
                "    Emp_ID int                  NOT NULL,\r\n",
                "    Emp_FirstName VARCHAR(20)   NOT NULL,\r\n",
                "    Emp_LastName VARCHAR(20)    NOT NULL,\r\n",
                "    Emp_Age int,                 \r\n",
                "    Emp_Salary DECIMAL(18,5)    NOT NULL,\r\n",
                "    Emp_Address CHAR(25),\r\n",
                "    Dep_ID int                  NOT NULL,\r\n",
                "    PRIMARY KEY (Emp_ID)\r\n",
                ");"
            ],
            "metadata": {
                "azdata_cell_guid": "62971dfc-e1fe-48c3-b9e2-3b1ce9912b3a"
            },
            "outputs": [
                {
                    "output_type": "display_data",
                    "data": {
                        "text/html": "Commands completed successfully."
                    },
                    "metadata": {}
                },
                {
                    "output_type": "display_data",
                    "data": {
                        "text/html": "Total execution time: 00:00:00.156"
                    },
                    "metadata": {}
                }
            ],
            "execution_count": 6
        },
        {
            "cell_type": "markdown",
            "source": [
                "2. Both tables must have a primary key and the correct datatypes. Include a minimum of 5 fields in at least one of the tables.                                                       4. Enter records into both tables and view them. Make sure at least one of your tables has 10 records."
            ],
            "metadata": {
                "azdata_cell_guid": "407093b8-e0be-4dac-a52e-d9418a590a6c"
            }
        },
        {
            "cell_type": "code",
            "source": [
                "INSERT INTO employer_table (\r\n",
                "    Emp_ID,\r\n",
                "    Emp_FirstName,\r\n",
                "    Emp_LastName,\r\n",
                "    Emp_Age,\r\n",
                "    Emp_Salary,\r\n",
                "    Emp_Address, \r\n",
                "    Dep_ID\r\n",
                ")\r\n",
                "VALUES\r\n",
                "(\r\n",
                "    1, 'Gopika', 'Krishna', 32, 30000.00, 'Cambridge', 2),\r\n",
                "    (2, 'Sai','Ram',30, 45000.00,'Peterborough', 3), \r\n",
                "    (3, 'Sita', 'Ram', 24, 40000.00, 'London', 1),\r\n",
                "    (4, 'Latha', 'Shiva', 36, 50000.00, 'Manchester', 4),\r\n",
                "    (5, 'Alfa', 'Beta', 28, 25000.00, 'Luton', 3),\r\n",
                "    (6, 'Gama', 'Delta', 25, 32000.00, 'Milton', 2),\r\n",
                "    (7, 'Sara', 'Patel', 34, 36000.00, 'Wales', 1),\r\n",
                "    (8, 'Mith', 'Smile', 40, 42000.00, 'Stamford', 4),\r\n",
                "    (9, 'Joe', 'Laton', 32, 41000.00, 'Manchester', 3),\r\n",
                "    (10, 'James', 'Pande', 23, 27000.00, 'Bristol', 1);\r\n",
                ""
            ],
            "metadata": {
                "azdata_cell_guid": "7e04e490-1a37-4964-becc-9eedee7630b9"
            },
            "outputs": [
                {
                    "output_type": "display_data",
                    "data": {
                        "text/html": "(10 rows affected)"
                    },
                    "metadata": {}
                },
                {
                    "output_type": "display_data",
                    "data": {
                        "text/html": "Total execution time: 00:00:00.127"
                    },
                    "metadata": {}
                }
            ],
            "execution_count": 7
        },
        {
            "cell_type": "markdown",
            "source": [
                "3.  View and show both table structures and data to make sure they are setup correctly."
            ],
            "metadata": {
                "azdata_cell_guid": "1b130adf-2297-48f5-8013-d780ec8aaaf3"
            }
        },
        {
            "cell_type": "code",
            "source": [
                "select * from employer_table"
            ],
            "metadata": {
                "azdata_cell_guid": "78f18533-bf49-464b-a837-2e054f3a63e9"
            },
            "outputs": [
                {
                    "output_type": "display_data",
                    "data": {
                        "text/html": "(10 rows affected)"
                    },
                    "metadata": {}
                },
                {
                    "output_type": "display_data",
                    "data": {
                        "text/html": "Total execution time: 00:00:00.043"
                    },
                    "metadata": {}
                },
                {
                    "output_type": "execute_result",
                    "execution_count": 8,
                    "data": {
                        "application/vnd.dataresource+json": {
                            "schema": {
                                "fields": [
                                    {
                                        "name": "Emp_ID"
                                    },
                                    {
                                        "name": "Emp_FirstName"
                                    },
                                    {
                                        "name": "Emp_LastName"
                                    },
                                    {
                                        "name": "Emp_Age"
                                    },
                                    {
                                        "name": "Emp_Salary"
                                    },
                                    {
                                        "name": "Emp_Address"
                                    },
                                    {
                                        "name": "Dep_ID"
                                    }
                                ]
                            },
                            "data": [
                                {
                                    "0": "1",
                                    "1": "Gopika",
                                    "2": "Krishna",
                                    "3": "32",
                                    "4": "30000.00000",
                                    "5": "Cambridge                ",
                                    "6": "2"
                                },
                                {
                                    "0": "2",
                                    "1": "Sai",
                                    "2": "Ram",
                                    "3": "30",
                                    "4": "45000.00000",
                                    "5": "Peterborough             ",
                                    "6": "3"
                                },
                                {
                                    "0": "3",
                                    "1": "Sita",
                                    "2": "Ram",
                                    "3": "24",
                                    "4": "40000.00000",
                                    "5": "London                   ",
                                    "6": "1"
                                },
                                {
                                    "0": "4",
                                    "1": "Latha",
                                    "2": "Shiva",
                                    "3": "36",
                                    "4": "50000.00000",
                                    "5": "Manchester               ",
                                    "6": "4"
                                },
                                {
                                    "0": "5",
                                    "1": "Alfa",
                                    "2": "Beta",
                                    "3": "28",
                                    "4": "25000.00000",
                                    "5": "Luton                    ",
                                    "6": "3"
                                },
                                {
                                    "0": "6",
                                    "1": "Gama",
                                    "2": "Delta",
                                    "3": "25",
                                    "4": "32000.00000",
                                    "5": "Milton                   ",
                                    "6": "2"
                                },
                                {
                                    "0": "7",
                                    "1": "Sara",
                                    "2": "Patel",
                                    "3": "34",
                                    "4": "36000.00000",
                                    "5": "Wales                    ",
                                    "6": "1"
                                },
                                {
                                    "0": "8",
                                    "1": "Mith",
                                    "2": "Smile",
                                    "3": "40",
                                    "4": "42000.00000",
                                    "5": "Stamford                 ",
                                    "6": "4"
                                },
                                {
                                    "0": "9",
                                    "1": "Joe",
                                    "2": "Laton",
                                    "3": "32",
                                    "4": "41000.00000",
                                    "5": "Manchester               ",
                                    "6": "3"
                                },
                                {
                                    "0": "10",
                                    "1": "James",
                                    "2": "Pande",
                                    "3": "23",
                                    "4": "27000.00000",
                                    "5": "Bristol                  ",
                                    "6": "1"
                                }
                            ]
                        },
                        "text/html": "<table><tr><th>Emp_ID</th><th>Emp_FirstName</th><th>Emp_LastName</th><th>Emp_Age</th><th>Emp_Salary</th><th>Emp_Address</th><th>Dep_ID</th></tr><tr><td>1</td><td>Gopika</td><td>Krishna</td><td>32</td><td>30000.00000</td><td>Cambridge                </td><td>2</td></tr><tr><td>2</td><td>Sai</td><td>Ram</td><td>30</td><td>45000.00000</td><td>Peterborough             </td><td>3</td></tr><tr><td>3</td><td>Sita</td><td>Ram</td><td>24</td><td>40000.00000</td><td>London                   </td><td>1</td></tr><tr><td>4</td><td>Latha</td><td>Shiva</td><td>36</td><td>50000.00000</td><td>Manchester               </td><td>4</td></tr><tr><td>5</td><td>Alfa</td><td>Beta</td><td>28</td><td>25000.00000</td><td>Luton                    </td><td>3</td></tr><tr><td>6</td><td>Gama</td><td>Delta</td><td>25</td><td>32000.00000</td><td>Milton                   </td><td>2</td></tr><tr><td>7</td><td>Sara</td><td>Patel</td><td>34</td><td>36000.00000</td><td>Wales                    </td><td>1</td></tr><tr><td>8</td><td>Mith</td><td>Smile</td><td>40</td><td>42000.00000</td><td>Stamford                 </td><td>4</td></tr><tr><td>9</td><td>Joe</td><td>Laton</td><td>32</td><td>41000.00000</td><td>Manchester               </td><td>3</td></tr><tr><td>10</td><td>James</td><td>Pande</td><td>23</td><td>27000.00000</td><td>Bristol                  </td><td>1</td></tr></table>"
                    },
                    "metadata": {
                        "resultSet": {
                            "id": 0,
                            "batchId": 0,
                            "rowCount": 10,
                            "complete": false,
                            "columnInfo": [
                                {
                                    "isBytes": false,
                                    "isChars": false,
                                    "isSqlVariant": false,
                                    "isUdt": false,
                                    "isXml": false,
                                    "isJson": false,
                                    "sqlDbType": 8,
                                    "isHierarchyId": false,
                                    "isSqlXmlType": false,
                                    "isUnknownType": false,
                                    "isUpdatable": true,
                                    "allowDBNull": false,
                                    "baseCatalogName": null,
                                    "baseColumnName": null,
                                    "baseSchemaName": null,
                                    "baseServerName": null,
                                    "baseTableName": null,
                                    "columnName": "Emp_ID",
                                    "columnOrdinal": 0,
                                    "columnSize": 4,
                                    "isAliased": null,
                                    "isAutoIncrement": false,
                                    "isExpression": null,
                                    "isHidden": null,
                                    "isIdentity": false,
                                    "isKey": null,
                                    "isLong": false,
                                    "isReadOnly": false,
                                    "isUnique": false,
                                    "numericPrecision": 10,
                                    "numericScale": 255,
                                    "udtAssemblyQualifiedName": null,
                                    "dataType": "System.Int32, System.Private.CoreLib, Version=4.0.0.0, Culture=neutral, PublicKeyToken=7cec85d7bea7798e",
                                    "dataTypeName": "int"
                                },
                                {
                                    "isBytes": false,
                                    "isChars": true,
                                    "isSqlVariant": false,
                                    "isUdt": false,
                                    "isXml": false,
                                    "isJson": false,
                                    "sqlDbType": 22,
                                    "isHierarchyId": false,
                                    "isSqlXmlType": false,
                                    "isUnknownType": false,
                                    "isUpdatable": true,
                                    "allowDBNull": false,
                                    "baseCatalogName": null,
                                    "baseColumnName": null,
                                    "baseSchemaName": null,
                                    "baseServerName": null,
                                    "baseTableName": null,
                                    "columnName": "Emp_FirstName",
                                    "columnOrdinal": 1,
                                    "columnSize": 20,
                                    "isAliased": null,
                                    "isAutoIncrement": false,
                                    "isExpression": null,
                                    "isHidden": null,
                                    "isIdentity": false,
                                    "isKey": null,
                                    "isLong": false,
                                    "isReadOnly": false,
                                    "isUnique": false,
                                    "numericPrecision": 255,
                                    "numericScale": 255,
                                    "udtAssemblyQualifiedName": null,
                                    "dataType": "System.String, System.Private.CoreLib, Version=4.0.0.0, Culture=neutral, PublicKeyToken=7cec85d7bea7798e",
                                    "dataTypeName": "varchar"
                                },
                                {
                                    "isBytes": false,
                                    "isChars": true,
                                    "isSqlVariant": false,
                                    "isUdt": false,
                                    "isXml": false,
                                    "isJson": false,
                                    "sqlDbType": 22,
                                    "isHierarchyId": false,
                                    "isSqlXmlType": false,
                                    "isUnknownType": false,
                                    "isUpdatable": true,
                                    "allowDBNull": false,
                                    "baseCatalogName": null,
                                    "baseColumnName": null,
                                    "baseSchemaName": null,
                                    "baseServerName": null,
                                    "baseTableName": null,
                                    "columnName": "Emp_LastName",
                                    "columnOrdinal": 2,
                                    "columnSize": 20,
                                    "isAliased": null,
                                    "isAutoIncrement": false,
                                    "isExpression": null,
                                    "isHidden": null,
                                    "isIdentity": false,
                                    "isKey": null,
                                    "isLong": false,
                                    "isReadOnly": false,
                                    "isUnique": false,
                                    "numericPrecision": 255,
                                    "numericScale": 255,
                                    "udtAssemblyQualifiedName": null,
                                    "dataType": "System.String, System.Private.CoreLib, Version=4.0.0.0, Culture=neutral, PublicKeyToken=7cec85d7bea7798e",
                                    "dataTypeName": "varchar"
                                },
                                {
                                    "isBytes": false,
                                    "isChars": false,
                                    "isSqlVariant": false,
                                    "isUdt": false,
                                    "isXml": false,
                                    "isJson": false,
                                    "sqlDbType": 8,
                                    "isHierarchyId": false,
                                    "isSqlXmlType": false,
                                    "isUnknownType": false,
                                    "isUpdatable": true,
                                    "allowDBNull": true,
                                    "baseCatalogName": null,
                                    "baseColumnName": null,
                                    "baseSchemaName": null,
                                    "baseServerName": null,
                                    "baseTableName": null,
                                    "columnName": "Emp_Age",
                                    "columnOrdinal": 3,
                                    "columnSize": 4,
                                    "isAliased": null,
                                    "isAutoIncrement": false,
                                    "isExpression": null,
                                    "isHidden": null,
                                    "isIdentity": false,
                                    "isKey": null,
                                    "isLong": false,
                                    "isReadOnly": false,
                                    "isUnique": false,
                                    "numericPrecision": 10,
                                    "numericScale": 255,
                                    "udtAssemblyQualifiedName": null,
                                    "dataType": "System.Int32, System.Private.CoreLib, Version=4.0.0.0, Culture=neutral, PublicKeyToken=7cec85d7bea7798e",
                                    "dataTypeName": "int"
                                },
                                {
                                    "isBytes": false,
                                    "isChars": false,
                                    "isSqlVariant": false,
                                    "isUdt": false,
                                    "isXml": false,
                                    "isJson": false,
                                    "sqlDbType": 5,
                                    "isHierarchyId": false,
                                    "isSqlXmlType": false,
                                    "isUnknownType": false,
                                    "isUpdatable": true,
                                    "allowDBNull": false,
                                    "baseCatalogName": null,
                                    "baseColumnName": null,
                                    "baseSchemaName": null,
                                    "baseServerName": null,
                                    "baseTableName": null,
                                    "columnName": "Emp_Salary",
                                    "columnOrdinal": 4,
                                    "columnSize": 17,
                                    "isAliased": null,
                                    "isAutoIncrement": false,
                                    "isExpression": null,
                                    "isHidden": null,
                                    "isIdentity": false,
                                    "isKey": null,
                                    "isLong": false,
                                    "isReadOnly": false,
                                    "isUnique": false,
                                    "numericPrecision": 18,
                                    "numericScale": 5,
                                    "udtAssemblyQualifiedName": null,
                                    "dataType": "System.Decimal, System.Private.CoreLib, Version=4.0.0.0, Culture=neutral, PublicKeyToken=7cec85d7bea7798e",
                                    "dataTypeName": "decimal"
                                },
                                {
                                    "isBytes": false,
                                    "isChars": false,
                                    "isSqlVariant": false,
                                    "isUdt": false,
                                    "isXml": false,
                                    "isJson": false,
                                    "sqlDbType": 3,
                                    "isHierarchyId": false,
                                    "isSqlXmlType": false,
                                    "isUnknownType": false,
                                    "isUpdatable": true,
                                    "allowDBNull": true,
                                    "baseCatalogName": null,
                                    "baseColumnName": null,
                                    "baseSchemaName": null,
                                    "baseServerName": null,
                                    "baseTableName": null,
                                    "columnName": "Emp_Address",
                                    "columnOrdinal": 5,
                                    "columnSize": 25,
                                    "isAliased": null,
                                    "isAutoIncrement": false,
                                    "isExpression": null,
                                    "isHidden": null,
                                    "isIdentity": false,
                                    "isKey": null,
                                    "isLong": false,
                                    "isReadOnly": false,
                                    "isUnique": false,
                                    "numericPrecision": 255,
                                    "numericScale": 255,
                                    "udtAssemblyQualifiedName": null,
                                    "dataType": "System.String, System.Private.CoreLib, Version=4.0.0.0, Culture=neutral, PublicKeyToken=7cec85d7bea7798e",
                                    "dataTypeName": "char"
                                },
                                {
                                    "isBytes": false,
                                    "isChars": false,
                                    "isSqlVariant": false,
                                    "isUdt": false,
                                    "isXml": false,
                                    "isJson": false,
                                    "sqlDbType": 8,
                                    "isHierarchyId": false,
                                    "isSqlXmlType": false,
                                    "isUnknownType": false,
                                    "isUpdatable": true,
                                    "allowDBNull": false,
                                    "baseCatalogName": null,
                                    "baseColumnName": null,
                                    "baseSchemaName": null,
                                    "baseServerName": null,
                                    "baseTableName": null,
                                    "columnName": "Dep_ID",
                                    "columnOrdinal": 6,
                                    "columnSize": 4,
                                    "isAliased": null,
                                    "isAutoIncrement": false,
                                    "isExpression": null,
                                    "isHidden": null,
                                    "isIdentity": false,
                                    "isKey": null,
                                    "isLong": false,
                                    "isReadOnly": false,
                                    "isUnique": false,
                                    "numericPrecision": 10,
                                    "numericScale": 255,
                                    "udtAssemblyQualifiedName": null,
                                    "dataType": "System.Int32, System.Private.CoreLib, Version=4.0.0.0, Culture=neutral, PublicKeyToken=7cec85d7bea7798e",
                                    "dataTypeName": "int"
                                }
                            ],
                            "specialAction": null
                        }
                    }
                }
            ],
            "execution_count": 8
        },
        {
            "cell_type": "markdown",
            "source": [
                " Create a relational database (2 tables) of your own choice. It is must be a meaningful/thought out database."
            ],
            "metadata": {
                "azdata_cell_guid": "4734dcd8-cce6-41d2-afea-4f80aeb36dd2"
            }
        },
        {
            "cell_type": "code",
            "source": [
                "CREATE TABLE department_table(\r\n",
                "    Dep_ID int             NOT NULL,\r\n",
                "    Dep_Name VARCHAR(20)   NOT NULL,\r\n",
                "    PRIMARY KEY (Dep_ID)\r\n",
                ");"
            ],
            "metadata": {
                "azdata_cell_guid": "20da1c88-5991-4985-ab3c-b425176d57cb"
            },
            "outputs": [
                {
                    "output_type": "display_data",
                    "data": {
                        "text/html": "Commands completed successfully."
                    },
                    "metadata": {}
                },
                {
                    "output_type": "display_data",
                    "data": {
                        "text/html": "Total execution time: 00:00:00.138"
                    },
                    "metadata": {}
                }
            ],
            "execution_count": 3
        },
        {
            "cell_type": "code",
            "source": [
                "INSERT INTO department_table\r\n",
                " (\r\n",
                "    Dep_ID,\r\n",
                "    Dep_Name\r\n",
                ")\r\n",
                "VALUES\r\n",
                "( 1, 'Human Resources'),\r\n",
                "( 2, 'Development'),\r\n",
                "( 3, 'Sales'),\r\n",
                "( 4, 'Technical Support');"
            ],
            "metadata": {
                "azdata_cell_guid": "3807290f-a22d-4f52-9f00-46f16ee35cdd"
            },
            "outputs": [
                {
                    "output_type": "display_data",
                    "data": {
                        "text/html": "(4 rows affected)"
                    },
                    "metadata": {}
                },
                {
                    "output_type": "display_data",
                    "data": {
                        "text/html": "Total execution time: 00:00:00.134"
                    },
                    "metadata": {}
                }
            ],
            "execution_count": 5
        },
        {
            "cell_type": "code",
            "source": [
                "SELECT * FROM department_table"
            ],
            "metadata": {
                "azdata_cell_guid": "b4448544-14be-47cb-802f-06647d3274d1"
            },
            "outputs": [
                {
                    "output_type": "display_data",
                    "data": {
                        "text/html": "(4 rows affected)"
                    },
                    "metadata": {}
                },
                {
                    "output_type": "display_data",
                    "data": {
                        "text/html": "Total execution time: 00:00:00.294"
                    },
                    "metadata": {}
                },
                {
                    "output_type": "execute_result",
                    "metadata": {
                        "resultSet": {
                            "id": 0,
                            "batchId": 0,
                            "rowCount": 4,
                            "complete": true,
                            "columnInfo": [
                                {
                                    "isBytes": false,
                                    "isChars": false,
                                    "isSqlVariant": false,
                                    "isUdt": false,
                                    "isXml": false,
                                    "isJson": false,
                                    "sqlDbType": 8,
                                    "isHierarchyId": false,
                                    "isSqlXmlType": false,
                                    "isUnknownType": false,
                                    "isUpdatable": true,
                                    "allowDBNull": false,
                                    "baseCatalogName": null,
                                    "baseColumnName": null,
                                    "baseSchemaName": null,
                                    "baseServerName": null,
                                    "baseTableName": null,
                                    "columnName": "Dep_ID",
                                    "columnOrdinal": 0,
                                    "columnSize": 4,
                                    "isAliased": null,
                                    "isAutoIncrement": false,
                                    "isExpression": null,
                                    "isHidden": null,
                                    "isIdentity": false,
                                    "isKey": null,
                                    "isLong": false,
                                    "isReadOnly": false,
                                    "isUnique": false,
                                    "numericPrecision": 10,
                                    "numericScale": 255,
                                    "udtAssemblyQualifiedName": null,
                                    "dataType": "System.Int32, System.Private.CoreLib, Version=4.0.0.0, Culture=neutral, PublicKeyToken=7cec85d7bea7798e",
                                    "dataTypeName": "int"
                                },
                                {
                                    "isBytes": false,
                                    "isChars": true,
                                    "isSqlVariant": false,
                                    "isUdt": false,
                                    "isXml": false,
                                    "isJson": false,
                                    "sqlDbType": 22,
                                    "isHierarchyId": false,
                                    "isSqlXmlType": false,
                                    "isUnknownType": false,
                                    "isUpdatable": true,
                                    "allowDBNull": false,
                                    "baseCatalogName": null,
                                    "baseColumnName": null,
                                    "baseSchemaName": null,
                                    "baseServerName": null,
                                    "baseTableName": null,
                                    "columnName": "Dep_Name",
                                    "columnOrdinal": 1,
                                    "columnSize": 20,
                                    "isAliased": null,
                                    "isAutoIncrement": false,
                                    "isExpression": null,
                                    "isHidden": null,
                                    "isIdentity": false,
                                    "isKey": null,
                                    "isLong": false,
                                    "isReadOnly": false,
                                    "isUnique": false,
                                    "numericPrecision": 255,
                                    "numericScale": 255,
                                    "udtAssemblyQualifiedName": null,
                                    "dataType": "System.String, System.Private.CoreLib, Version=4.0.0.0, Culture=neutral, PublicKeyToken=7cec85d7bea7798e",
                                    "dataTypeName": "varchar"
                                }
                            ],
                            "specialAction": {
                                "none": true,
                                "expectYukonXMLShowPlan": false
                            }
                        }
                    },
                    "execution_count": 6,
                    "data": {
                        "application/vnd.dataresource+json": {
                            "schema": {
                                "fields": [
                                    {
                                        "name": "Dep_ID"
                                    },
                                    {
                                        "name": "Dep_Name"
                                    }
                                ]
                            },
                            "data": [
                                {
                                    "0": "1",
                                    "1": "Human Resources"
                                },
                                {
                                    "0": "2",
                                    "1": "Development"
                                },
                                {
                                    "0": "3",
                                    "1": "Sales"
                                },
                                {
                                    "0": "4",
                                    "1": "Technical Support"
                                }
                            ]
                        },
                        "text/html": [
                            "<table>",
                            "<tr><th>Dep_ID</th><th>Dep_Name</th></tr>",
                            "<tr><td>1</td><td>Human Resources</td></tr>",
                            "<tr><td>2</td><td>Development</td></tr>",
                            "<tr><td>3</td><td>Sales</td></tr>",
                            "<tr><td>4</td><td>Technical Support</td></tr>",
                            "</table>"
                        ]
                    }
                }
            ],
            "execution_count": 6
        },
        {
            "cell_type": "markdown",
            "source": [
                "5\\. Update a record"
            ],
            "metadata": {
                "azdata_cell_guid": "60c2da65-90b8-4927-a399-9b8b6b1d4e74"
            }
        },
        {
            "cell_type": "code",
            "source": [
                "UPDATE employer_table\r\n",
                "SET Emp_LastName = 'Geen' \r\n",
                "WHERE Emp_FirstName = 'Gama';"
            ],
            "metadata": {
                "azdata_cell_guid": "2d24b284-eb59-4f61-8efa-28a4220d9d17"
            },
            "outputs": [
                {
                    "output_type": "display_data",
                    "data": {
                        "text/html": "(1 row affected)"
                    },
                    "metadata": {}
                },
                {
                    "output_type": "display_data",
                    "data": {
                        "text/html": "Total execution time: 00:00:00.219"
                    },
                    "metadata": {}
                }
            ],
            "execution_count": 9
        },
        {
            "cell_type": "code",
            "source": [
                "SELECT * FROM employer_table"
            ],
            "metadata": {
                "azdata_cell_guid": "a8daec5d-321c-45da-9548-b76b85bad5e1"
            },
            "outputs": [
                {
                    "output_type": "display_data",
                    "data": {
                        "text/html": "(10 rows affected)"
                    },
                    "metadata": {}
                },
                {
                    "output_type": "display_data",
                    "data": {
                        "text/html": "Total execution time: 00:00:03.019"
                    },
                    "metadata": {}
                },
                {
                    "output_type": "execute_result",
                    "metadata": {
                        "resultSet": {
                            "id": 0,
                            "batchId": 0,
                            "rowCount": 10,
                            "complete": false,
                            "columnInfo": [
                                {
                                    "isBytes": false,
                                    "isChars": false,
                                    "isSqlVariant": false,
                                    "isUdt": false,
                                    "isXml": false,
                                    "isJson": false,
                                    "sqlDbType": 8,
                                    "isHierarchyId": false,
                                    "isSqlXmlType": false,
                                    "isUnknownType": false,
                                    "isUpdatable": true,
                                    "allowDBNull": false,
                                    "baseCatalogName": null,
                                    "baseColumnName": null,
                                    "baseSchemaName": null,
                                    "baseServerName": null,
                                    "baseTableName": null,
                                    "columnName": "Emp_ID",
                                    "columnOrdinal": 0,
                                    "columnSize": 4,
                                    "isAliased": null,
                                    "isAutoIncrement": false,
                                    "isExpression": null,
                                    "isHidden": null,
                                    "isIdentity": false,
                                    "isKey": null,
                                    "isLong": false,
                                    "isReadOnly": false,
                                    "isUnique": false,
                                    "numericPrecision": 10,
                                    "numericScale": 255,
                                    "udtAssemblyQualifiedName": null,
                                    "dataType": "System.Int32, System.Private.CoreLib, Version=4.0.0.0, Culture=neutral, PublicKeyToken=7cec85d7bea7798e",
                                    "dataTypeName": "int"
                                },
                                {
                                    "isBytes": false,
                                    "isChars": true,
                                    "isSqlVariant": false,
                                    "isUdt": false,
                                    "isXml": false,
                                    "isJson": false,
                                    "sqlDbType": 22,
                                    "isHierarchyId": false,
                                    "isSqlXmlType": false,
                                    "isUnknownType": false,
                                    "isUpdatable": true,
                                    "allowDBNull": false,
                                    "baseCatalogName": null,
                                    "baseColumnName": null,
                                    "baseSchemaName": null,
                                    "baseServerName": null,
                                    "baseTableName": null,
                                    "columnName": "Emp_FirstName",
                                    "columnOrdinal": 1,
                                    "columnSize": 20,
                                    "isAliased": null,
                                    "isAutoIncrement": false,
                                    "isExpression": null,
                                    "isHidden": null,
                                    "isIdentity": false,
                                    "isKey": null,
                                    "isLong": false,
                                    "isReadOnly": false,
                                    "isUnique": false,
                                    "numericPrecision": 255,
                                    "numericScale": 255,
                                    "udtAssemblyQualifiedName": null,
                                    "dataType": "System.String, System.Private.CoreLib, Version=4.0.0.0, Culture=neutral, PublicKeyToken=7cec85d7bea7798e",
                                    "dataTypeName": "varchar"
                                },
                                {
                                    "isBytes": false,
                                    "isChars": true,
                                    "isSqlVariant": false,
                                    "isUdt": false,
                                    "isXml": false,
                                    "isJson": false,
                                    "sqlDbType": 22,
                                    "isHierarchyId": false,
                                    "isSqlXmlType": false,
                                    "isUnknownType": false,
                                    "isUpdatable": true,
                                    "allowDBNull": false,
                                    "baseCatalogName": null,
                                    "baseColumnName": null,
                                    "baseSchemaName": null,
                                    "baseServerName": null,
                                    "baseTableName": null,
                                    "columnName": "Emp_LastName",
                                    "columnOrdinal": 2,
                                    "columnSize": 20,
                                    "isAliased": null,
                                    "isAutoIncrement": false,
                                    "isExpression": null,
                                    "isHidden": null,
                                    "isIdentity": false,
                                    "isKey": null,
                                    "isLong": false,
                                    "isReadOnly": false,
                                    "isUnique": false,
                                    "numericPrecision": 255,
                                    "numericScale": 255,
                                    "udtAssemblyQualifiedName": null,
                                    "dataType": "System.String, System.Private.CoreLib, Version=4.0.0.0, Culture=neutral, PublicKeyToken=7cec85d7bea7798e",
                                    "dataTypeName": "varchar"
                                },
                                {
                                    "isBytes": false,
                                    "isChars": false,
                                    "isSqlVariant": false,
                                    "isUdt": false,
                                    "isXml": false,
                                    "isJson": false,
                                    "sqlDbType": 8,
                                    "isHierarchyId": false,
                                    "isSqlXmlType": false,
                                    "isUnknownType": false,
                                    "isUpdatable": true,
                                    "allowDBNull": true,
                                    "baseCatalogName": null,
                                    "baseColumnName": null,
                                    "baseSchemaName": null,
                                    "baseServerName": null,
                                    "baseTableName": null,
                                    "columnName": "Emp_Age",
                                    "columnOrdinal": 3,
                                    "columnSize": 4,
                                    "isAliased": null,
                                    "isAutoIncrement": false,
                                    "isExpression": null,
                                    "isHidden": null,
                                    "isIdentity": false,
                                    "isKey": null,
                                    "isLong": false,
                                    "isReadOnly": false,
                                    "isUnique": false,
                                    "numericPrecision": 10,
                                    "numericScale": 255,
                                    "udtAssemblyQualifiedName": null,
                                    "dataType": "System.Int32, System.Private.CoreLib, Version=4.0.0.0, Culture=neutral, PublicKeyToken=7cec85d7bea7798e",
                                    "dataTypeName": "int"
                                },
                                {
                                    "isBytes": false,
                                    "isChars": false,
                                    "isSqlVariant": false,
                                    "isUdt": false,
                                    "isXml": false,
                                    "isJson": false,
                                    "sqlDbType": 5,
                                    "isHierarchyId": false,
                                    "isSqlXmlType": false,
                                    "isUnknownType": false,
                                    "isUpdatable": true,
                                    "allowDBNull": false,
                                    "baseCatalogName": null,
                                    "baseColumnName": null,
                                    "baseSchemaName": null,
                                    "baseServerName": null,
                                    "baseTableName": null,
                                    "columnName": "Emp_Salary",
                                    "columnOrdinal": 4,
                                    "columnSize": 17,
                                    "isAliased": null,
                                    "isAutoIncrement": false,
                                    "isExpression": null,
                                    "isHidden": null,
                                    "isIdentity": false,
                                    "isKey": null,
                                    "isLong": false,
                                    "isReadOnly": false,
                                    "isUnique": false,
                                    "numericPrecision": 18,
                                    "numericScale": 5,
                                    "udtAssemblyQualifiedName": null,
                                    "dataType": "System.Decimal, System.Private.CoreLib, Version=4.0.0.0, Culture=neutral, PublicKeyToken=7cec85d7bea7798e",
                                    "dataTypeName": "decimal"
                                },
                                {
                                    "isBytes": false,
                                    "isChars": false,
                                    "isSqlVariant": false,
                                    "isUdt": false,
                                    "isXml": false,
                                    "isJson": false,
                                    "sqlDbType": 3,
                                    "isHierarchyId": false,
                                    "isSqlXmlType": false,
                                    "isUnknownType": false,
                                    "isUpdatable": true,
                                    "allowDBNull": true,
                                    "baseCatalogName": null,
                                    "baseColumnName": null,
                                    "baseSchemaName": null,
                                    "baseServerName": null,
                                    "baseTableName": null,
                                    "columnName": "Emp_Address",
                                    "columnOrdinal": 5,
                                    "columnSize": 25,
                                    "isAliased": null,
                                    "isAutoIncrement": false,
                                    "isExpression": null,
                                    "isHidden": null,
                                    "isIdentity": false,
                                    "isKey": null,
                                    "isLong": false,
                                    "isReadOnly": false,
                                    "isUnique": false,
                                    "numericPrecision": 255,
                                    "numericScale": 255,
                                    "udtAssemblyQualifiedName": null,
                                    "dataType": "System.String, System.Private.CoreLib, Version=4.0.0.0, Culture=neutral, PublicKeyToken=7cec85d7bea7798e",
                                    "dataTypeName": "char"
                                },
                                {
                                    "isBytes": false,
                                    "isChars": false,
                                    "isSqlVariant": false,
                                    "isUdt": false,
                                    "isXml": false,
                                    "isJson": false,
                                    "sqlDbType": 8,
                                    "isHierarchyId": false,
                                    "isSqlXmlType": false,
                                    "isUnknownType": false,
                                    "isUpdatable": true,
                                    "allowDBNull": false,
                                    "baseCatalogName": null,
                                    "baseColumnName": null,
                                    "baseSchemaName": null,
                                    "baseServerName": null,
                                    "baseTableName": null,
                                    "columnName": "Dep_ID",
                                    "columnOrdinal": 6,
                                    "columnSize": 4,
                                    "isAliased": null,
                                    "isAutoIncrement": false,
                                    "isExpression": null,
                                    "isHidden": null,
                                    "isIdentity": false,
                                    "isKey": null,
                                    "isLong": false,
                                    "isReadOnly": false,
                                    "isUnique": false,
                                    "numericPrecision": 10,
                                    "numericScale": 255,
                                    "udtAssemblyQualifiedName": null,
                                    "dataType": "System.Int32, System.Private.CoreLib, Version=4.0.0.0, Culture=neutral, PublicKeyToken=7cec85d7bea7798e",
                                    "dataTypeName": "int"
                                }
                            ],
                            "specialAction": null
                        }
                    },
                    "execution_count": 10,
                    "data": {
                        "application/vnd.dataresource+json": {
                            "schema": {
                                "fields": [
                                    {
                                        "name": "Emp_ID"
                                    },
                                    {
                                        "name": "Emp_FirstName"
                                    },
                                    {
                                        "name": "Emp_LastName"
                                    },
                                    {
                                        "name": "Emp_Age"
                                    },
                                    {
                                        "name": "Emp_Salary"
                                    },
                                    {
                                        "name": "Emp_Address"
                                    },
                                    {
                                        "name": "Dep_ID"
                                    }
                                ]
                            },
                            "data": [
                                {
                                    "0": "1",
                                    "1": "Gopika",
                                    "2": "Krishna",
                                    "3": "32",
                                    "4": "30000.00000",
                                    "5": "Cambridge                ",
                                    "6": "2"
                                },
                                {
                                    "0": "2",
                                    "1": "Sai",
                                    "2": "Ram",
                                    "3": "30",
                                    "4": "45000.00000",
                                    "5": "Peterborough             ",
                                    "6": "3"
                                },
                                {
                                    "0": "3",
                                    "1": "Sita",
                                    "2": "Ram",
                                    "3": "24",
                                    "4": "40000.00000",
                                    "5": "London                   ",
                                    "6": "1"
                                },
                                {
                                    "0": "4",
                                    "1": "Latha",
                                    "2": "Shiva",
                                    "3": "36",
                                    "4": "50000.00000",
                                    "5": "Manchester               ",
                                    "6": "4"
                                },
                                {
                                    "0": "5",
                                    "1": "Alfa",
                                    "2": "Beta",
                                    "3": "28",
                                    "4": "25000.00000",
                                    "5": "Luton                    ",
                                    "6": "3"
                                },
                                {
                                    "0": "6",
                                    "1": "Gama",
                                    "2": "Geen",
                                    "3": "25",
                                    "4": "32000.00000",
                                    "5": "Milton                   ",
                                    "6": "2"
                                },
                                {
                                    "0": "7",
                                    "1": "Sara",
                                    "2": "Patel",
                                    "3": "34",
                                    "4": "36000.00000",
                                    "5": "Wales                    ",
                                    "6": "1"
                                },
                                {
                                    "0": "8",
                                    "1": "Mith",
                                    "2": "Smile",
                                    "3": "40",
                                    "4": "42000.00000",
                                    "5": "Stamford                 ",
                                    "6": "4"
                                },
                                {
                                    "0": "9",
                                    "1": "Joe",
                                    "2": "Laton",
                                    "3": "32",
                                    "4": "41000.00000",
                                    "5": "Manchester               ",
                                    "6": "3"
                                },
                                {
                                    "0": "10",
                                    "1": "James",
                                    "2": "Pande",
                                    "3": "23",
                                    "4": "27000.00000",
                                    "5": "Bristol                  ",
                                    "6": "1"
                                }
                            ]
                        },
                        "text/html": [
                            "<table>",
                            "<tr><th>Emp_ID</th><th>Emp_FirstName</th><th>Emp_LastName</th><th>Emp_Age</th><th>Emp_Salary</th><th>Emp_Address</th><th>Dep_ID</th></tr>",
                            "<tr><td>1</td><td>Gopika</td><td>Krishna</td><td>32</td><td>30000.00000</td><td>Cambridge                </td><td>2</td></tr>",
                            "<tr><td>2</td><td>Sai</td><td>Ram</td><td>30</td><td>45000.00000</td><td>Peterborough             </td><td>3</td></tr>",
                            "<tr><td>3</td><td>Sita</td><td>Ram</td><td>24</td><td>40000.00000</td><td>London                   </td><td>1</td></tr>",
                            "<tr><td>4</td><td>Latha</td><td>Shiva</td><td>36</td><td>50000.00000</td><td>Manchester               </td><td>4</td></tr>",
                            "<tr><td>5</td><td>Alfa</td><td>Beta</td><td>28</td><td>25000.00000</td><td>Luton                    </td><td>3</td></tr>",
                            "<tr><td>6</td><td>Gama</td><td>Geen</td><td>25</td><td>32000.00000</td><td>Milton                   </td><td>2</td></tr>",
                            "<tr><td>7</td><td>Sara</td><td>Patel</td><td>34</td><td>36000.00000</td><td>Wales                    </td><td>1</td></tr>",
                            "<tr><td>8</td><td>Mith</td><td>Smile</td><td>40</td><td>42000.00000</td><td>Stamford                 </td><td>4</td></tr>",
                            "<tr><td>9</td><td>Joe</td><td>Laton</td><td>32</td><td>41000.00000</td><td>Manchester               </td><td>3</td></tr>",
                            "<tr><td>10</td><td>James</td><td>Pande</td><td>23</td><td>27000.00000</td><td>Bristol                  </td><td>1</td></tr>",
                            "</table>"
                        ]
                    }
                }
            ],
            "execution_count": 10
        },
        {
            "cell_type": "markdown",
            "source": [
                "6.  Delete a record"
            ],
            "metadata": {
                "azdata_cell_guid": "fd818edb-4055-4dc1-a04f-e86bd75139a1"
            }
        },
        {
            "cell_type": "code",
            "source": [
                "DELETE FROM employer_table WHERE Emp_FirstName = 'Mith';"
            ],
            "metadata": {
                "azdata_cell_guid": "6d4f71d1-b17e-4b2a-a9f0-3d6f24cde9e0"
            },
            "outputs": [
                {
                    "output_type": "display_data",
                    "data": {
                        "text/html": "(1 row affected)"
                    },
                    "metadata": {}
                },
                {
                    "output_type": "display_data",
                    "data": {
                        "text/html": "Total execution time: 00:00:00.439"
                    },
                    "metadata": {}
                }
            ],
            "execution_count": 11
        },
        {
            "cell_type": "code",
            "source": [
                "SELECT * FROM employer_table"
            ],
            "metadata": {
                "azdata_cell_guid": "11454133-d7f4-4dfa-ae89-82c63fb51b03"
            },
            "outputs": [
                {
                    "output_type": "display_data",
                    "data": {
                        "text/html": "(9 rows affected)"
                    },
                    "metadata": {}
                },
                {
                    "output_type": "display_data",
                    "data": {
                        "text/html": "Total execution time: 00:00:00.076"
                    },
                    "metadata": {}
                },
                {
                    "output_type": "execute_result",
                    "metadata": {
                        "resultSet": {
                            "id": 0,
                            "batchId": 0,
                            "rowCount": 9,
                            "complete": false,
                            "columnInfo": [
                                {
                                    "isBytes": false,
                                    "isChars": false,
                                    "isSqlVariant": false,
                                    "isUdt": false,
                                    "isXml": false,
                                    "isJson": false,
                                    "sqlDbType": 8,
                                    "isHierarchyId": false,
                                    "isSqlXmlType": false,
                                    "isUnknownType": false,
                                    "isUpdatable": true,
                                    "allowDBNull": false,
                                    "baseCatalogName": null,
                                    "baseColumnName": null,
                                    "baseSchemaName": null,
                                    "baseServerName": null,
                                    "baseTableName": null,
                                    "columnName": "Emp_ID",
                                    "columnOrdinal": 0,
                                    "columnSize": 4,
                                    "isAliased": null,
                                    "isAutoIncrement": false,
                                    "isExpression": null,
                                    "isHidden": null,
                                    "isIdentity": false,
                                    "isKey": null,
                                    "isLong": false,
                                    "isReadOnly": false,
                                    "isUnique": false,
                                    "numericPrecision": 10,
                                    "numericScale": 255,
                                    "udtAssemblyQualifiedName": null,
                                    "dataType": "System.Int32, System.Private.CoreLib, Version=4.0.0.0, Culture=neutral, PublicKeyToken=7cec85d7bea7798e",
                                    "dataTypeName": "int"
                                },
                                {
                                    "isBytes": false,
                                    "isChars": true,
                                    "isSqlVariant": false,
                                    "isUdt": false,
                                    "isXml": false,
                                    "isJson": false,
                                    "sqlDbType": 22,
                                    "isHierarchyId": false,
                                    "isSqlXmlType": false,
                                    "isUnknownType": false,
                                    "isUpdatable": true,
                                    "allowDBNull": false,
                                    "baseCatalogName": null,
                                    "baseColumnName": null,
                                    "baseSchemaName": null,
                                    "baseServerName": null,
                                    "baseTableName": null,
                                    "columnName": "Emp_FirstName",
                                    "columnOrdinal": 1,
                                    "columnSize": 20,
                                    "isAliased": null,
                                    "isAutoIncrement": false,
                                    "isExpression": null,
                                    "isHidden": null,
                                    "isIdentity": false,
                                    "isKey": null,
                                    "isLong": false,
                                    "isReadOnly": false,
                                    "isUnique": false,
                                    "numericPrecision": 255,
                                    "numericScale": 255,
                                    "udtAssemblyQualifiedName": null,
                                    "dataType": "System.String, System.Private.CoreLib, Version=4.0.0.0, Culture=neutral, PublicKeyToken=7cec85d7bea7798e",
                                    "dataTypeName": "varchar"
                                },
                                {
                                    "isBytes": false,
                                    "isChars": true,
                                    "isSqlVariant": false,
                                    "isUdt": false,
                                    "isXml": false,
                                    "isJson": false,
                                    "sqlDbType": 22,
                                    "isHierarchyId": false,
                                    "isSqlXmlType": false,
                                    "isUnknownType": false,
                                    "isUpdatable": true,
                                    "allowDBNull": false,
                                    "baseCatalogName": null,
                                    "baseColumnName": null,
                                    "baseSchemaName": null,
                                    "baseServerName": null,
                                    "baseTableName": null,
                                    "columnName": "Emp_LastName",
                                    "columnOrdinal": 2,
                                    "columnSize": 20,
                                    "isAliased": null,
                                    "isAutoIncrement": false,
                                    "isExpression": null,
                                    "isHidden": null,
                                    "isIdentity": false,
                                    "isKey": null,
                                    "isLong": false,
                                    "isReadOnly": false,
                                    "isUnique": false,
                                    "numericPrecision": 255,
                                    "numericScale": 255,
                                    "udtAssemblyQualifiedName": null,
                                    "dataType": "System.String, System.Private.CoreLib, Version=4.0.0.0, Culture=neutral, PublicKeyToken=7cec85d7bea7798e",
                                    "dataTypeName": "varchar"
                                },
                                {
                                    "isBytes": false,
                                    "isChars": false,
                                    "isSqlVariant": false,
                                    "isUdt": false,
                                    "isXml": false,
                                    "isJson": false,
                                    "sqlDbType": 8,
                                    "isHierarchyId": false,
                                    "isSqlXmlType": false,
                                    "isUnknownType": false,
                                    "isUpdatable": true,
                                    "allowDBNull": true,
                                    "baseCatalogName": null,
                                    "baseColumnName": null,
                                    "baseSchemaName": null,
                                    "baseServerName": null,
                                    "baseTableName": null,
                                    "columnName": "Emp_Age",
                                    "columnOrdinal": 3,
                                    "columnSize": 4,
                                    "isAliased": null,
                                    "isAutoIncrement": false,
                                    "isExpression": null,
                                    "isHidden": null,
                                    "isIdentity": false,
                                    "isKey": null,
                                    "isLong": false,
                                    "isReadOnly": false,
                                    "isUnique": false,
                                    "numericPrecision": 10,
                                    "numericScale": 255,
                                    "udtAssemblyQualifiedName": null,
                                    "dataType": "System.Int32, System.Private.CoreLib, Version=4.0.0.0, Culture=neutral, PublicKeyToken=7cec85d7bea7798e",
                                    "dataTypeName": "int"
                                },
                                {
                                    "isBytes": false,
                                    "isChars": false,
                                    "isSqlVariant": false,
                                    "isUdt": false,
                                    "isXml": false,
                                    "isJson": false,
                                    "sqlDbType": 5,
                                    "isHierarchyId": false,
                                    "isSqlXmlType": false,
                                    "isUnknownType": false,
                                    "isUpdatable": true,
                                    "allowDBNull": false,
                                    "baseCatalogName": null,
                                    "baseColumnName": null,
                                    "baseSchemaName": null,
                                    "baseServerName": null,
                                    "baseTableName": null,
                                    "columnName": "Emp_Salary",
                                    "columnOrdinal": 4,
                                    "columnSize": 17,
                                    "isAliased": null,
                                    "isAutoIncrement": false,
                                    "isExpression": null,
                                    "isHidden": null,
                                    "isIdentity": false,
                                    "isKey": null,
                                    "isLong": false,
                                    "isReadOnly": false,
                                    "isUnique": false,
                                    "numericPrecision": 18,
                                    "numericScale": 5,
                                    "udtAssemblyQualifiedName": null,
                                    "dataType": "System.Decimal, System.Private.CoreLib, Version=4.0.0.0, Culture=neutral, PublicKeyToken=7cec85d7bea7798e",
                                    "dataTypeName": "decimal"
                                },
                                {
                                    "isBytes": false,
                                    "isChars": false,
                                    "isSqlVariant": false,
                                    "isUdt": false,
                                    "isXml": false,
                                    "isJson": false,
                                    "sqlDbType": 3,
                                    "isHierarchyId": false,
                                    "isSqlXmlType": false,
                                    "isUnknownType": false,
                                    "isUpdatable": true,
                                    "allowDBNull": true,
                                    "baseCatalogName": null,
                                    "baseColumnName": null,
                                    "baseSchemaName": null,
                                    "baseServerName": null,
                                    "baseTableName": null,
                                    "columnName": "Emp_Address",
                                    "columnOrdinal": 5,
                                    "columnSize": 25,
                                    "isAliased": null,
                                    "isAutoIncrement": false,
                                    "isExpression": null,
                                    "isHidden": null,
                                    "isIdentity": false,
                                    "isKey": null,
                                    "isLong": false,
                                    "isReadOnly": false,
                                    "isUnique": false,
                                    "numericPrecision": 255,
                                    "numericScale": 255,
                                    "udtAssemblyQualifiedName": null,
                                    "dataType": "System.String, System.Private.CoreLib, Version=4.0.0.0, Culture=neutral, PublicKeyToken=7cec85d7bea7798e",
                                    "dataTypeName": "char"
                                },
                                {
                                    "isBytes": false,
                                    "isChars": false,
                                    "isSqlVariant": false,
                                    "isUdt": false,
                                    "isXml": false,
                                    "isJson": false,
                                    "sqlDbType": 8,
                                    "isHierarchyId": false,
                                    "isSqlXmlType": false,
                                    "isUnknownType": false,
                                    "isUpdatable": true,
                                    "allowDBNull": false,
                                    "baseCatalogName": null,
                                    "baseColumnName": null,
                                    "baseSchemaName": null,
                                    "baseServerName": null,
                                    "baseTableName": null,
                                    "columnName": "Dep_ID",
                                    "columnOrdinal": 6,
                                    "columnSize": 4,
                                    "isAliased": null,
                                    "isAutoIncrement": false,
                                    "isExpression": null,
                                    "isHidden": null,
                                    "isIdentity": false,
                                    "isKey": null,
                                    "isLong": false,
                                    "isReadOnly": false,
                                    "isUnique": false,
                                    "numericPrecision": 10,
                                    "numericScale": 255,
                                    "udtAssemblyQualifiedName": null,
                                    "dataType": "System.Int32, System.Private.CoreLib, Version=4.0.0.0, Culture=neutral, PublicKeyToken=7cec85d7bea7798e",
                                    "dataTypeName": "int"
                                }
                            ],
                            "specialAction": null
                        }
                    },
                    "execution_count": 12,
                    "data": {
                        "application/vnd.dataresource+json": {
                            "schema": {
                                "fields": [
                                    {
                                        "name": "Emp_ID"
                                    },
                                    {
                                        "name": "Emp_FirstName"
                                    },
                                    {
                                        "name": "Emp_LastName"
                                    },
                                    {
                                        "name": "Emp_Age"
                                    },
                                    {
                                        "name": "Emp_Salary"
                                    },
                                    {
                                        "name": "Emp_Address"
                                    },
                                    {
                                        "name": "Dep_ID"
                                    }
                                ]
                            },
                            "data": [
                                {
                                    "0": "1",
                                    "1": "Gopika",
                                    "2": "Krishna",
                                    "3": "32",
                                    "4": "30000.00000",
                                    "5": "Cambridge                ",
                                    "6": "2"
                                },
                                {
                                    "0": "2",
                                    "1": "Sai",
                                    "2": "Ram",
                                    "3": "30",
                                    "4": "45000.00000",
                                    "5": "Peterborough             ",
                                    "6": "3"
                                },
                                {
                                    "0": "3",
                                    "1": "Sita",
                                    "2": "Ram",
                                    "3": "24",
                                    "4": "40000.00000",
                                    "5": "London                   ",
                                    "6": "1"
                                },
                                {
                                    "0": "4",
                                    "1": "Latha",
                                    "2": "Shiva",
                                    "3": "36",
                                    "4": "50000.00000",
                                    "5": "Manchester               ",
                                    "6": "4"
                                },
                                {
                                    "0": "5",
                                    "1": "Alfa",
                                    "2": "Beta",
                                    "3": "28",
                                    "4": "25000.00000",
                                    "5": "Luton                    ",
                                    "6": "3"
                                },
                                {
                                    "0": "6",
                                    "1": "Gama",
                                    "2": "Geen",
                                    "3": "25",
                                    "4": "32000.00000",
                                    "5": "Milton                   ",
                                    "6": "2"
                                },
                                {
                                    "0": "7",
                                    "1": "Sara",
                                    "2": "Patel",
                                    "3": "34",
                                    "4": "36000.00000",
                                    "5": "Wales                    ",
                                    "6": "1"
                                },
                                {
                                    "0": "9",
                                    "1": "Joe",
                                    "2": "Laton",
                                    "3": "32",
                                    "4": "41000.00000",
                                    "5": "Manchester               ",
                                    "6": "3"
                                },
                                {
                                    "0": "10",
                                    "1": "James",
                                    "2": "Pande",
                                    "3": "23",
                                    "4": "27000.00000",
                                    "5": "Bristol                  ",
                                    "6": "1"
                                }
                            ]
                        },
                        "text/html": [
                            "<table>",
                            "<tr><th>Emp_ID</th><th>Emp_FirstName</th><th>Emp_LastName</th><th>Emp_Age</th><th>Emp_Salary</th><th>Emp_Address</th><th>Dep_ID</th></tr>",
                            "<tr><td>1</td><td>Gopika</td><td>Krishna</td><td>32</td><td>30000.00000</td><td>Cambridge                </td><td>2</td></tr>",
                            "<tr><td>2</td><td>Sai</td><td>Ram</td><td>30</td><td>45000.00000</td><td>Peterborough             </td><td>3</td></tr>",
                            "<tr><td>3</td><td>Sita</td><td>Ram</td><td>24</td><td>40000.00000</td><td>London                   </td><td>1</td></tr>",
                            "<tr><td>4</td><td>Latha</td><td>Shiva</td><td>36</td><td>50000.00000</td><td>Manchester               </td><td>4</td></tr>",
                            "<tr><td>5</td><td>Alfa</td><td>Beta</td><td>28</td><td>25000.00000</td><td>Luton                    </td><td>3</td></tr>",
                            "<tr><td>6</td><td>Gama</td><td>Geen</td><td>25</td><td>32000.00000</td><td>Milton                   </td><td>2</td></tr>",
                            "<tr><td>7</td><td>Sara</td><td>Patel</td><td>34</td><td>36000.00000</td><td>Wales                    </td><td>1</td></tr>",
                            "<tr><td>9</td><td>Joe</td><td>Laton</td><td>32</td><td>41000.00000</td><td>Manchester               </td><td>3</td></tr>",
                            "<tr><td>10</td><td>James</td><td>Pande</td><td>23</td><td>27000.00000</td><td>Bristol                  </td><td>1</td></tr>",
                            "</table>"
                        ]
                    }
                }
            ],
            "execution_count": 12
        },
        {
            "cell_type": "markdown",
            "source": [
                "7.  Join tables"
            ],
            "metadata": {
                "azdata_cell_guid": "7dc89e99-ddb5-4552-bfc2-db12965f8c7f"
            }
        },
        {
            "cell_type": "code",
            "source": [
                "SELECT * FROM employer_table \r\n",
                "INNER JOIN department_table ON employer_table.Dep_ID = department_table.Dep_ID;"
            ],
            "metadata": {
                "azdata_cell_guid": "dbef8f5a-834b-4e91-bb23-c1b8ac04cfb0"
            },
            "outputs": [
                {
                    "output_type": "display_data",
                    "data": {
                        "text/html": "(9 rows affected)"
                    },
                    "metadata": {}
                },
                {
                    "output_type": "display_data",
                    "data": {
                        "text/html": "Total execution time: 00:00:00.275"
                    },
                    "metadata": {}
                },
                {
                    "output_type": "execute_result",
                    "metadata": {
                        "resultSet": {
                            "id": 0,
                            "batchId": 0,
                            "rowCount": 9,
                            "complete": false,
                            "columnInfo": [
                                {
                                    "isBytes": false,
                                    "isChars": false,
                                    "isSqlVariant": false,
                                    "isUdt": false,
                                    "isXml": false,
                                    "isJson": false,
                                    "sqlDbType": 8,
                                    "isHierarchyId": false,
                                    "isSqlXmlType": false,
                                    "isUnknownType": false,
                                    "isUpdatable": true,
                                    "allowDBNull": false,
                                    "baseCatalogName": null,
                                    "baseColumnName": null,
                                    "baseSchemaName": null,
                                    "baseServerName": null,
                                    "baseTableName": null,
                                    "columnName": "Emp_ID",
                                    "columnOrdinal": 0,
                                    "columnSize": 4,
                                    "isAliased": null,
                                    "isAutoIncrement": false,
                                    "isExpression": null,
                                    "isHidden": null,
                                    "isIdentity": false,
                                    "isKey": null,
                                    "isLong": false,
                                    "isReadOnly": false,
                                    "isUnique": false,
                                    "numericPrecision": 10,
                                    "numericScale": 255,
                                    "udtAssemblyQualifiedName": null,
                                    "dataType": "System.Int32, System.Private.CoreLib, Version=4.0.0.0, Culture=neutral, PublicKeyToken=7cec85d7bea7798e",
                                    "dataTypeName": "int"
                                },
                                {
                                    "isBytes": false,
                                    "isChars": true,
                                    "isSqlVariant": false,
                                    "isUdt": false,
                                    "isXml": false,
                                    "isJson": false,
                                    "sqlDbType": 22,
                                    "isHierarchyId": false,
                                    "isSqlXmlType": false,
                                    "isUnknownType": false,
                                    "isUpdatable": true,
                                    "allowDBNull": false,
                                    "baseCatalogName": null,
                                    "baseColumnName": null,
                                    "baseSchemaName": null,
                                    "baseServerName": null,
                                    "baseTableName": null,
                                    "columnName": "Emp_FirstName",
                                    "columnOrdinal": 1,
                                    "columnSize": 20,
                                    "isAliased": null,
                                    "isAutoIncrement": false,
                                    "isExpression": null,
                                    "isHidden": null,
                                    "isIdentity": false,
                                    "isKey": null,
                                    "isLong": false,
                                    "isReadOnly": false,
                                    "isUnique": false,
                                    "numericPrecision": 255,
                                    "numericScale": 255,
                                    "udtAssemblyQualifiedName": null,
                                    "dataType": "System.String, System.Private.CoreLib, Version=4.0.0.0, Culture=neutral, PublicKeyToken=7cec85d7bea7798e",
                                    "dataTypeName": "varchar"
                                },
                                {
                                    "isBytes": false,
                                    "isChars": true,
                                    "isSqlVariant": false,
                                    "isUdt": false,
                                    "isXml": false,
                                    "isJson": false,
                                    "sqlDbType": 22,
                                    "isHierarchyId": false,
                                    "isSqlXmlType": false,
                                    "isUnknownType": false,
                                    "isUpdatable": true,
                                    "allowDBNull": false,
                                    "baseCatalogName": null,
                                    "baseColumnName": null,
                                    "baseSchemaName": null,
                                    "baseServerName": null,
                                    "baseTableName": null,
                                    "columnName": "Emp_LastName",
                                    "columnOrdinal": 2,
                                    "columnSize": 20,
                                    "isAliased": null,
                                    "isAutoIncrement": false,
                                    "isExpression": null,
                                    "isHidden": null,
                                    "isIdentity": false,
                                    "isKey": null,
                                    "isLong": false,
                                    "isReadOnly": false,
                                    "isUnique": false,
                                    "numericPrecision": 255,
                                    "numericScale": 255,
                                    "udtAssemblyQualifiedName": null,
                                    "dataType": "System.String, System.Private.CoreLib, Version=4.0.0.0, Culture=neutral, PublicKeyToken=7cec85d7bea7798e",
                                    "dataTypeName": "varchar"
                                },
                                {
                                    "isBytes": false,
                                    "isChars": false,
                                    "isSqlVariant": false,
                                    "isUdt": false,
                                    "isXml": false,
                                    "isJson": false,
                                    "sqlDbType": 8,
                                    "isHierarchyId": false,
                                    "isSqlXmlType": false,
                                    "isUnknownType": false,
                                    "isUpdatable": true,
                                    "allowDBNull": true,
                                    "baseCatalogName": null,
                                    "baseColumnName": null,
                                    "baseSchemaName": null,
                                    "baseServerName": null,
                                    "baseTableName": null,
                                    "columnName": "Emp_Age",
                                    "columnOrdinal": 3,
                                    "columnSize": 4,
                                    "isAliased": null,
                                    "isAutoIncrement": false,
                                    "isExpression": null,
                                    "isHidden": null,
                                    "isIdentity": false,
                                    "isKey": null,
                                    "isLong": false,
                                    "isReadOnly": false,
                                    "isUnique": false,
                                    "numericPrecision": 10,
                                    "numericScale": 255,
                                    "udtAssemblyQualifiedName": null,
                                    "dataType": "System.Int32, System.Private.CoreLib, Version=4.0.0.0, Culture=neutral, PublicKeyToken=7cec85d7bea7798e",
                                    "dataTypeName": "int"
                                },
                                {
                                    "isBytes": false,
                                    "isChars": false,
                                    "isSqlVariant": false,
                                    "isUdt": false,
                                    "isXml": false,
                                    "isJson": false,
                                    "sqlDbType": 5,
                                    "isHierarchyId": false,
                                    "isSqlXmlType": false,
                                    "isUnknownType": false,
                                    "isUpdatable": true,
                                    "allowDBNull": false,
                                    "baseCatalogName": null,
                                    "baseColumnName": null,
                                    "baseSchemaName": null,
                                    "baseServerName": null,
                                    "baseTableName": null,
                                    "columnName": "Emp_Salary",
                                    "columnOrdinal": 4,
                                    "columnSize": 17,
                                    "isAliased": null,
                                    "isAutoIncrement": false,
                                    "isExpression": null,
                                    "isHidden": null,
                                    "isIdentity": false,
                                    "isKey": null,
                                    "isLong": false,
                                    "isReadOnly": false,
                                    "isUnique": false,
                                    "numericPrecision": 18,
                                    "numericScale": 5,
                                    "udtAssemblyQualifiedName": null,
                                    "dataType": "System.Decimal, System.Private.CoreLib, Version=4.0.0.0, Culture=neutral, PublicKeyToken=7cec85d7bea7798e",
                                    "dataTypeName": "decimal"
                                },
                                {
                                    "isBytes": false,
                                    "isChars": false,
                                    "isSqlVariant": false,
                                    "isUdt": false,
                                    "isXml": false,
                                    "isJson": false,
                                    "sqlDbType": 3,
                                    "isHierarchyId": false,
                                    "isSqlXmlType": false,
                                    "isUnknownType": false,
                                    "isUpdatable": true,
                                    "allowDBNull": true,
                                    "baseCatalogName": null,
                                    "baseColumnName": null,
                                    "baseSchemaName": null,
                                    "baseServerName": null,
                                    "baseTableName": null,
                                    "columnName": "Emp_Address",
                                    "columnOrdinal": 5,
                                    "columnSize": 25,
                                    "isAliased": null,
                                    "isAutoIncrement": false,
                                    "isExpression": null,
                                    "isHidden": null,
                                    "isIdentity": false,
                                    "isKey": null,
                                    "isLong": false,
                                    "isReadOnly": false,
                                    "isUnique": false,
                                    "numericPrecision": 255,
                                    "numericScale": 255,
                                    "udtAssemblyQualifiedName": null,
                                    "dataType": "System.String, System.Private.CoreLib, Version=4.0.0.0, Culture=neutral, PublicKeyToken=7cec85d7bea7798e",
                                    "dataTypeName": "char"
                                },
                                {
                                    "isBytes": false,
                                    "isChars": false,
                                    "isSqlVariant": false,
                                    "isUdt": false,
                                    "isXml": false,
                                    "isJson": false,
                                    "sqlDbType": 8,
                                    "isHierarchyId": false,
                                    "isSqlXmlType": false,
                                    "isUnknownType": false,
                                    "isUpdatable": true,
                                    "allowDBNull": false,
                                    "baseCatalogName": null,
                                    "baseColumnName": null,
                                    "baseSchemaName": null,
                                    "baseServerName": null,
                                    "baseTableName": null,
                                    "columnName": "Dep_ID",
                                    "columnOrdinal": 6,
                                    "columnSize": 4,
                                    "isAliased": null,
                                    "isAutoIncrement": false,
                                    "isExpression": null,
                                    "isHidden": null,
                                    "isIdentity": false,
                                    "isKey": null,
                                    "isLong": false,
                                    "isReadOnly": false,
                                    "isUnique": false,
                                    "numericPrecision": 10,
                                    "numericScale": 255,
                                    "udtAssemblyQualifiedName": null,
                                    "dataType": "System.Int32, System.Private.CoreLib, Version=4.0.0.0, Culture=neutral, PublicKeyToken=7cec85d7bea7798e",
                                    "dataTypeName": "int"
                                },
                                {
                                    "isBytes": false,
                                    "isChars": false,
                                    "isSqlVariant": false,
                                    "isUdt": false,
                                    "isXml": false,
                                    "isJson": false,
                                    "sqlDbType": 8,
                                    "isHierarchyId": false,
                                    "isSqlXmlType": false,
                                    "isUnknownType": false,
                                    "isUpdatable": true,
                                    "allowDBNull": false,
                                    "baseCatalogName": null,
                                    "baseColumnName": null,
                                    "baseSchemaName": null,
                                    "baseServerName": null,
                                    "baseTableName": null,
                                    "columnName": "Dep_ID",
                                    "columnOrdinal": 7,
                                    "columnSize": 4,
                                    "isAliased": null,
                                    "isAutoIncrement": false,
                                    "isExpression": null,
                                    "isHidden": null,
                                    "isIdentity": false,
                                    "isKey": null,
                                    "isLong": false,
                                    "isReadOnly": false,
                                    "isUnique": false,
                                    "numericPrecision": 10,
                                    "numericScale": 255,
                                    "udtAssemblyQualifiedName": null,
                                    "dataType": "System.Int32, System.Private.CoreLib, Version=4.0.0.0, Culture=neutral, PublicKeyToken=7cec85d7bea7798e",
                                    "dataTypeName": "int"
                                },
                                {
                                    "isBytes": false,
                                    "isChars": true,
                                    "isSqlVariant": false,
                                    "isUdt": false,
                                    "isXml": false,
                                    "isJson": false,
                                    "sqlDbType": 22,
                                    "isHierarchyId": false,
                                    "isSqlXmlType": false,
                                    "isUnknownType": false,
                                    "isUpdatable": true,
                                    "allowDBNull": false,
                                    "baseCatalogName": null,
                                    "baseColumnName": null,
                                    "baseSchemaName": null,
                                    "baseServerName": null,
                                    "baseTableName": null,
                                    "columnName": "Dep_Name",
                                    "columnOrdinal": 8,
                                    "columnSize": 20,
                                    "isAliased": null,
                                    "isAutoIncrement": false,
                                    "isExpression": null,
                                    "isHidden": null,
                                    "isIdentity": false,
                                    "isKey": null,
                                    "isLong": false,
                                    "isReadOnly": false,
                                    "isUnique": false,
                                    "numericPrecision": 255,
                                    "numericScale": 255,
                                    "udtAssemblyQualifiedName": null,
                                    "dataType": "System.String, System.Private.CoreLib, Version=4.0.0.0, Culture=neutral, PublicKeyToken=7cec85d7bea7798e",
                                    "dataTypeName": "varchar"
                                }
                            ],
                            "specialAction": null
                        }
                    },
                    "execution_count": 13,
                    "data": {
                        "application/vnd.dataresource+json": {
                            "schema": {
                                "fields": [
                                    {
                                        "name": "Emp_ID"
                                    },
                                    {
                                        "name": "Emp_FirstName"
                                    },
                                    {
                                        "name": "Emp_LastName"
                                    },
                                    {
                                        "name": "Emp_Age"
                                    },
                                    {
                                        "name": "Emp_Salary"
                                    },
                                    {
                                        "name": "Emp_Address"
                                    },
                                    {
                                        "name": "Dep_ID"
                                    },
                                    {
                                        "name": "Dep_ID"
                                    },
                                    {
                                        "name": "Dep_Name"
                                    }
                                ]
                            },
                            "data": [
                                {
                                    "0": "1",
                                    "1": "Gopika",
                                    "2": "Krishna",
                                    "3": "32",
                                    "4": "30000.00000",
                                    "5": "Cambridge                ",
                                    "6": "2",
                                    "7": "2",
                                    "8": "Development"
                                },
                                {
                                    "0": "2",
                                    "1": "Sai",
                                    "2": "Ram",
                                    "3": "30",
                                    "4": "45000.00000",
                                    "5": "Peterborough             ",
                                    "6": "3",
                                    "7": "3",
                                    "8": "Sales"
                                },
                                {
                                    "0": "3",
                                    "1": "Sita",
                                    "2": "Ram",
                                    "3": "24",
                                    "4": "40000.00000",
                                    "5": "London                   ",
                                    "6": "1",
                                    "7": "1",
                                    "8": "Human Resources"
                                },
                                {
                                    "0": "4",
                                    "1": "Latha",
                                    "2": "Shiva",
                                    "3": "36",
                                    "4": "50000.00000",
                                    "5": "Manchester               ",
                                    "6": "4",
                                    "7": "4",
                                    "8": "Technical Support"
                                },
                                {
                                    "0": "5",
                                    "1": "Alfa",
                                    "2": "Beta",
                                    "3": "28",
                                    "4": "25000.00000",
                                    "5": "Luton                    ",
                                    "6": "3",
                                    "7": "3",
                                    "8": "Sales"
                                },
                                {
                                    "0": "6",
                                    "1": "Gama",
                                    "2": "Geen",
                                    "3": "25",
                                    "4": "32000.00000",
                                    "5": "Milton                   ",
                                    "6": "2",
                                    "7": "2",
                                    "8": "Development"
                                },
                                {
                                    "0": "7",
                                    "1": "Sara",
                                    "2": "Patel",
                                    "3": "34",
                                    "4": "36000.00000",
                                    "5": "Wales                    ",
                                    "6": "1",
                                    "7": "1",
                                    "8": "Human Resources"
                                },
                                {
                                    "0": "9",
                                    "1": "Joe",
                                    "2": "Laton",
                                    "3": "32",
                                    "4": "41000.00000",
                                    "5": "Manchester               ",
                                    "6": "3",
                                    "7": "3",
                                    "8": "Sales"
                                },
                                {
                                    "0": "10",
                                    "1": "James",
                                    "2": "Pande",
                                    "3": "23",
                                    "4": "27000.00000",
                                    "5": "Bristol                  ",
                                    "6": "1",
                                    "7": "1",
                                    "8": "Human Resources"
                                }
                            ]
                        },
                        "text/html": [
                            "<table>",
                            "<tr><th>Emp_ID</th><th>Emp_FirstName</th><th>Emp_LastName</th><th>Emp_Age</th><th>Emp_Salary</th><th>Emp_Address</th><th>Dep_ID</th><th>Dep_ID</th><th>Dep_Name</th></tr>",
                            "<tr><td>1</td><td>Gopika</td><td>Krishna</td><td>32</td><td>30000.00000</td><td>Cambridge                </td><td>2</td><td>2</td><td>Development</td></tr>",
                            "<tr><td>2</td><td>Sai</td><td>Ram</td><td>30</td><td>45000.00000</td><td>Peterborough             </td><td>3</td><td>3</td><td>Sales</td></tr>",
                            "<tr><td>3</td><td>Sita</td><td>Ram</td><td>24</td><td>40000.00000</td><td>London                   </td><td>1</td><td>1</td><td>Human Resources</td></tr>",
                            "<tr><td>4</td><td>Latha</td><td>Shiva</td><td>36</td><td>50000.00000</td><td>Manchester               </td><td>4</td><td>4</td><td>Technical Support</td></tr>",
                            "<tr><td>5</td><td>Alfa</td><td>Beta</td><td>28</td><td>25000.00000</td><td>Luton                    </td><td>3</td><td>3</td><td>Sales</td></tr>",
                            "<tr><td>6</td><td>Gama</td><td>Geen</td><td>25</td><td>32000.00000</td><td>Milton                   </td><td>2</td><td>2</td><td>Development</td></tr>",
                            "<tr><td>7</td><td>Sara</td><td>Patel</td><td>34</td><td>36000.00000</td><td>Wales                    </td><td>1</td><td>1</td><td>Human Resources</td></tr>",
                            "<tr><td>9</td><td>Joe</td><td>Laton</td><td>32</td><td>41000.00000</td><td>Manchester               </td><td>3</td><td>3</td><td>Sales</td></tr>",
                            "<tr><td>10</td><td>James</td><td>Pande</td><td>23</td><td>27000.00000</td><td>Bristol                  </td><td>1</td><td>1</td><td>Human Resources</td></tr>",
                            "</table>"
                        ]
                    }
                }
            ],
            "execution_count": 13
        },
        {
            "cell_type": "code",
            "source": [
                "SELECT employer_table.Emp_FirstName, employer_table.Emp_Age, employer_table.Emp_Salary, department_table.Dep_Name \r\n",
                "FROM employer_table \r\n",
                "LEFT JOIN department_table ON employer_table.Dep_ID = department_table.Dep_ID;"
            ],
            "metadata": {
                "azdata_cell_guid": "921e1291-5f17-4138-8fb0-479b1ced5036"
            },
            "outputs": [
                {
                    "output_type": "display_data",
                    "data": {
                        "text/html": "(9 rows affected)"
                    },
                    "metadata": {}
                },
                {
                    "output_type": "display_data",
                    "data": {
                        "text/html": "Total execution time: 00:00:00.248"
                    },
                    "metadata": {}
                },
                {
                    "output_type": "execute_result",
                    "metadata": {
                        "resultSet": {
                            "id": 0,
                            "batchId": 0,
                            "rowCount": 9,
                            "complete": true,
                            "columnInfo": [
                                {
                                    "isBytes": false,
                                    "isChars": true,
                                    "isSqlVariant": false,
                                    "isUdt": false,
                                    "isXml": false,
                                    "isJson": false,
                                    "sqlDbType": 22,
                                    "isHierarchyId": false,
                                    "isSqlXmlType": false,
                                    "isUnknownType": false,
                                    "isUpdatable": true,
                                    "allowDBNull": false,
                                    "baseCatalogName": null,
                                    "baseColumnName": null,
                                    "baseSchemaName": null,
                                    "baseServerName": null,
                                    "baseTableName": null,
                                    "columnName": "Emp_FirstName",
                                    "columnOrdinal": 0,
                                    "columnSize": 20,
                                    "isAliased": null,
                                    "isAutoIncrement": false,
                                    "isExpression": null,
                                    "isHidden": null,
                                    "isIdentity": false,
                                    "isKey": null,
                                    "isLong": false,
                                    "isReadOnly": false,
                                    "isUnique": false,
                                    "numericPrecision": 255,
                                    "numericScale": 255,
                                    "udtAssemblyQualifiedName": null,
                                    "dataType": "System.String, System.Private.CoreLib, Version=4.0.0.0, Culture=neutral, PublicKeyToken=7cec85d7bea7798e",
                                    "dataTypeName": "varchar"
                                },
                                {
                                    "isBytes": false,
                                    "isChars": false,
                                    "isSqlVariant": false,
                                    "isUdt": false,
                                    "isXml": false,
                                    "isJson": false,
                                    "sqlDbType": 8,
                                    "isHierarchyId": false,
                                    "isSqlXmlType": false,
                                    "isUnknownType": false,
                                    "isUpdatable": true,
                                    "allowDBNull": true,
                                    "baseCatalogName": null,
                                    "baseColumnName": null,
                                    "baseSchemaName": null,
                                    "baseServerName": null,
                                    "baseTableName": null,
                                    "columnName": "Emp_Age",
                                    "columnOrdinal": 1,
                                    "columnSize": 4,
                                    "isAliased": null,
                                    "isAutoIncrement": false,
                                    "isExpression": null,
                                    "isHidden": null,
                                    "isIdentity": false,
                                    "isKey": null,
                                    "isLong": false,
                                    "isReadOnly": false,
                                    "isUnique": false,
                                    "numericPrecision": 10,
                                    "numericScale": 255,
                                    "udtAssemblyQualifiedName": null,
                                    "dataType": "System.Int32, System.Private.CoreLib, Version=4.0.0.0, Culture=neutral, PublicKeyToken=7cec85d7bea7798e",
                                    "dataTypeName": "int"
                                },
                                {
                                    "isBytes": false,
                                    "isChars": false,
                                    "isSqlVariant": false,
                                    "isUdt": false,
                                    "isXml": false,
                                    "isJson": false,
                                    "sqlDbType": 5,
                                    "isHierarchyId": false,
                                    "isSqlXmlType": false,
                                    "isUnknownType": false,
                                    "isUpdatable": true,
                                    "allowDBNull": false,
                                    "baseCatalogName": null,
                                    "baseColumnName": null,
                                    "baseSchemaName": null,
                                    "baseServerName": null,
                                    "baseTableName": null,
                                    "columnName": "Emp_Salary",
                                    "columnOrdinal": 2,
                                    "columnSize": 17,
                                    "isAliased": null,
                                    "isAutoIncrement": false,
                                    "isExpression": null,
                                    "isHidden": null,
                                    "isIdentity": false,
                                    "isKey": null,
                                    "isLong": false,
                                    "isReadOnly": false,
                                    "isUnique": false,
                                    "numericPrecision": 18,
                                    "numericScale": 5,
                                    "udtAssemblyQualifiedName": null,
                                    "dataType": "System.Decimal, System.Private.CoreLib, Version=4.0.0.0, Culture=neutral, PublicKeyToken=7cec85d7bea7798e",
                                    "dataTypeName": "decimal"
                                },
                                {
                                    "isBytes": false,
                                    "isChars": true,
                                    "isSqlVariant": false,
                                    "isUdt": false,
                                    "isXml": false,
                                    "isJson": false,
                                    "sqlDbType": 22,
                                    "isHierarchyId": false,
                                    "isSqlXmlType": false,
                                    "isUnknownType": false,
                                    "isUpdatable": true,
                                    "allowDBNull": true,
                                    "baseCatalogName": null,
                                    "baseColumnName": null,
                                    "baseSchemaName": null,
                                    "baseServerName": null,
                                    "baseTableName": null,
                                    "columnName": "Dep_Name",
                                    "columnOrdinal": 3,
                                    "columnSize": 20,
                                    "isAliased": null,
                                    "isAutoIncrement": false,
                                    "isExpression": null,
                                    "isHidden": null,
                                    "isIdentity": false,
                                    "isKey": null,
                                    "isLong": false,
                                    "isReadOnly": false,
                                    "isUnique": false,
                                    "numericPrecision": 255,
                                    "numericScale": 255,
                                    "udtAssemblyQualifiedName": null,
                                    "dataType": "System.String, System.Private.CoreLib, Version=4.0.0.0, Culture=neutral, PublicKeyToken=7cec85d7bea7798e",
                                    "dataTypeName": "varchar"
                                }
                            ],
                            "specialAction": {
                                "none": true,
                                "expectYukonXMLShowPlan": false
                            }
                        }
                    },
                    "execution_count": 21,
                    "data": {
                        "application/vnd.dataresource+json": {
                            "schema": {
                                "fields": [
                                    {
                                        "name": "Emp_FirstName"
                                    },
                                    {
                                        "name": "Emp_Age"
                                    },
                                    {
                                        "name": "Emp_Salary"
                                    },
                                    {
                                        "name": "Dep_Name"
                                    }
                                ]
                            },
                            "data": [
                                {
                                    "0": "Gopika",
                                    "1": "32",
                                    "2": "30000.00000",
                                    "3": "Development"
                                },
                                {
                                    "0": "Sai",
                                    "1": "30",
                                    "2": "45000.00000",
                                    "3": "Sales"
                                },
                                {
                                    "0": "Sita",
                                    "1": "24",
                                    "2": "40000.00000",
                                    "3": "Human Resources"
                                },
                                {
                                    "0": "Latha",
                                    "1": "36",
                                    "2": "50000.00000",
                                    "3": "Technical Support"
                                },
                                {
                                    "0": "Alfa",
                                    "1": "28",
                                    "2": "25000.00000",
                                    "3": "Sales"
                                },
                                {
                                    "0": "Gama",
                                    "1": "25",
                                    "2": "32000.00000",
                                    "3": "Development"
                                },
                                {
                                    "0": "Sara",
                                    "1": "34",
                                    "2": "36000.00000",
                                    "3": "Human Resources"
                                },
                                {
                                    "0": "Joe",
                                    "1": "32",
                                    "2": "41000.00000",
                                    "3": "Sales"
                                },
                                {
                                    "0": "James",
                                    "1": "23",
                                    "2": "27000.00000",
                                    "3": "Human Resources"
                                }
                            ]
                        },
                        "text/html": [
                            "<table>",
                            "<tr><th>Emp_FirstName</th><th>Emp_Age</th><th>Emp_Salary</th><th>Dep_Name</th></tr>",
                            "<tr><td>Gopika</td><td>32</td><td>30000.00000</td><td>Development</td></tr>",
                            "<tr><td>Sai</td><td>30</td><td>45000.00000</td><td>Sales</td></tr>",
                            "<tr><td>Sita</td><td>24</td><td>40000.00000</td><td>Human Resources</td></tr>",
                            "<tr><td>Latha</td><td>36</td><td>50000.00000</td><td>Technical Support</td></tr>",
                            "<tr><td>Alfa</td><td>28</td><td>25000.00000</td><td>Sales</td></tr>",
                            "<tr><td>Gama</td><td>25</td><td>32000.00000</td><td>Development</td></tr>",
                            "<tr><td>Sara</td><td>34</td><td>36000.00000</td><td>Human Resources</td></tr>",
                            "<tr><td>Joe</td><td>32</td><td>41000.00000</td><td>Sales</td></tr>",
                            "<tr><td>James</td><td>23</td><td>27000.00000</td><td>Human Resources</td></tr>",
                            "</table>"
                        ]
                    }
                }
            ],
            "execution_count": 21
        },
        {
            "cell_type": "markdown",
            "source": [
                "8.  Run a simple query (one field/column) searching one table."
            ],
            "metadata": {
                "azdata_cell_guid": "a78b5c31-1a18-4d8e-8dc5-563e3299e8de"
            }
        },
        {
            "cell_type": "code",
            "source": [
                "SELECT * FROM employer_table WHERE Emp_Age = 32 ;"
            ],
            "metadata": {
                "azdata_cell_guid": "e9764f57-08d6-40c8-b5b7-a1477a4f5b29"
            },
            "outputs": [
                {
                    "output_type": "display_data",
                    "data": {
                        "text/html": "(2 rows affected)"
                    },
                    "metadata": {}
                },
                {
                    "output_type": "display_data",
                    "data": {
                        "text/html": "Total execution time: 00:00:00.176"
                    },
                    "metadata": {}
                },
                {
                    "output_type": "execute_result",
                    "metadata": {
                        "resultSet": {
                            "id": 0,
                            "batchId": 0,
                            "rowCount": 2,
                            "complete": true,
                            "columnInfo": [
                                {
                                    "isBytes": false,
                                    "isChars": false,
                                    "isSqlVariant": false,
                                    "isUdt": false,
                                    "isXml": false,
                                    "isJson": false,
                                    "sqlDbType": 8,
                                    "isHierarchyId": false,
                                    "isSqlXmlType": false,
                                    "isUnknownType": false,
                                    "isUpdatable": true,
                                    "allowDBNull": false,
                                    "baseCatalogName": null,
                                    "baseColumnName": null,
                                    "baseSchemaName": null,
                                    "baseServerName": null,
                                    "baseTableName": null,
                                    "columnName": "Emp_ID",
                                    "columnOrdinal": 0,
                                    "columnSize": 4,
                                    "isAliased": null,
                                    "isAutoIncrement": false,
                                    "isExpression": null,
                                    "isHidden": null,
                                    "isIdentity": false,
                                    "isKey": null,
                                    "isLong": false,
                                    "isReadOnly": false,
                                    "isUnique": false,
                                    "numericPrecision": 10,
                                    "numericScale": 255,
                                    "udtAssemblyQualifiedName": null,
                                    "dataType": "System.Int32, System.Private.CoreLib, Version=4.0.0.0, Culture=neutral, PublicKeyToken=7cec85d7bea7798e",
                                    "dataTypeName": "int"
                                },
                                {
                                    "isBytes": false,
                                    "isChars": true,
                                    "isSqlVariant": false,
                                    "isUdt": false,
                                    "isXml": false,
                                    "isJson": false,
                                    "sqlDbType": 22,
                                    "isHierarchyId": false,
                                    "isSqlXmlType": false,
                                    "isUnknownType": false,
                                    "isUpdatable": true,
                                    "allowDBNull": false,
                                    "baseCatalogName": null,
                                    "baseColumnName": null,
                                    "baseSchemaName": null,
                                    "baseServerName": null,
                                    "baseTableName": null,
                                    "columnName": "Emp_FirstName",
                                    "columnOrdinal": 1,
                                    "columnSize": 20,
                                    "isAliased": null,
                                    "isAutoIncrement": false,
                                    "isExpression": null,
                                    "isHidden": null,
                                    "isIdentity": false,
                                    "isKey": null,
                                    "isLong": false,
                                    "isReadOnly": false,
                                    "isUnique": false,
                                    "numericPrecision": 255,
                                    "numericScale": 255,
                                    "udtAssemblyQualifiedName": null,
                                    "dataType": "System.String, System.Private.CoreLib, Version=4.0.0.0, Culture=neutral, PublicKeyToken=7cec85d7bea7798e",
                                    "dataTypeName": "varchar"
                                },
                                {
                                    "isBytes": false,
                                    "isChars": true,
                                    "isSqlVariant": false,
                                    "isUdt": false,
                                    "isXml": false,
                                    "isJson": false,
                                    "sqlDbType": 22,
                                    "isHierarchyId": false,
                                    "isSqlXmlType": false,
                                    "isUnknownType": false,
                                    "isUpdatable": true,
                                    "allowDBNull": false,
                                    "baseCatalogName": null,
                                    "baseColumnName": null,
                                    "baseSchemaName": null,
                                    "baseServerName": null,
                                    "baseTableName": null,
                                    "columnName": "Emp_LastName",
                                    "columnOrdinal": 2,
                                    "columnSize": 20,
                                    "isAliased": null,
                                    "isAutoIncrement": false,
                                    "isExpression": null,
                                    "isHidden": null,
                                    "isIdentity": false,
                                    "isKey": null,
                                    "isLong": false,
                                    "isReadOnly": false,
                                    "isUnique": false,
                                    "numericPrecision": 255,
                                    "numericScale": 255,
                                    "udtAssemblyQualifiedName": null,
                                    "dataType": "System.String, System.Private.CoreLib, Version=4.0.0.0, Culture=neutral, PublicKeyToken=7cec85d7bea7798e",
                                    "dataTypeName": "varchar"
                                },
                                {
                                    "isBytes": false,
                                    "isChars": false,
                                    "isSqlVariant": false,
                                    "isUdt": false,
                                    "isXml": false,
                                    "isJson": false,
                                    "sqlDbType": 8,
                                    "isHierarchyId": false,
                                    "isSqlXmlType": false,
                                    "isUnknownType": false,
                                    "isUpdatable": true,
                                    "allowDBNull": true,
                                    "baseCatalogName": null,
                                    "baseColumnName": null,
                                    "baseSchemaName": null,
                                    "baseServerName": null,
                                    "baseTableName": null,
                                    "columnName": "Emp_Age",
                                    "columnOrdinal": 3,
                                    "columnSize": 4,
                                    "isAliased": null,
                                    "isAutoIncrement": false,
                                    "isExpression": null,
                                    "isHidden": null,
                                    "isIdentity": false,
                                    "isKey": null,
                                    "isLong": false,
                                    "isReadOnly": false,
                                    "isUnique": false,
                                    "numericPrecision": 10,
                                    "numericScale": 255,
                                    "udtAssemblyQualifiedName": null,
                                    "dataType": "System.Int32, System.Private.CoreLib, Version=4.0.0.0, Culture=neutral, PublicKeyToken=7cec85d7bea7798e",
                                    "dataTypeName": "int"
                                },
                                {
                                    "isBytes": false,
                                    "isChars": false,
                                    "isSqlVariant": false,
                                    "isUdt": false,
                                    "isXml": false,
                                    "isJson": false,
                                    "sqlDbType": 5,
                                    "isHierarchyId": false,
                                    "isSqlXmlType": false,
                                    "isUnknownType": false,
                                    "isUpdatable": true,
                                    "allowDBNull": false,
                                    "baseCatalogName": null,
                                    "baseColumnName": null,
                                    "baseSchemaName": null,
                                    "baseServerName": null,
                                    "baseTableName": null,
                                    "columnName": "Emp_Salary",
                                    "columnOrdinal": 4,
                                    "columnSize": 17,
                                    "isAliased": null,
                                    "isAutoIncrement": false,
                                    "isExpression": null,
                                    "isHidden": null,
                                    "isIdentity": false,
                                    "isKey": null,
                                    "isLong": false,
                                    "isReadOnly": false,
                                    "isUnique": false,
                                    "numericPrecision": 18,
                                    "numericScale": 5,
                                    "udtAssemblyQualifiedName": null,
                                    "dataType": "System.Decimal, System.Private.CoreLib, Version=4.0.0.0, Culture=neutral, PublicKeyToken=7cec85d7bea7798e",
                                    "dataTypeName": "decimal"
                                },
                                {
                                    "isBytes": false,
                                    "isChars": false,
                                    "isSqlVariant": false,
                                    "isUdt": false,
                                    "isXml": false,
                                    "isJson": false,
                                    "sqlDbType": 3,
                                    "isHierarchyId": false,
                                    "isSqlXmlType": false,
                                    "isUnknownType": false,
                                    "isUpdatable": true,
                                    "allowDBNull": true,
                                    "baseCatalogName": null,
                                    "baseColumnName": null,
                                    "baseSchemaName": null,
                                    "baseServerName": null,
                                    "baseTableName": null,
                                    "columnName": "Emp_Address",
                                    "columnOrdinal": 5,
                                    "columnSize": 25,
                                    "isAliased": null,
                                    "isAutoIncrement": false,
                                    "isExpression": null,
                                    "isHidden": null,
                                    "isIdentity": false,
                                    "isKey": null,
                                    "isLong": false,
                                    "isReadOnly": false,
                                    "isUnique": false,
                                    "numericPrecision": 255,
                                    "numericScale": 255,
                                    "udtAssemblyQualifiedName": null,
                                    "dataType": "System.String, System.Private.CoreLib, Version=4.0.0.0, Culture=neutral, PublicKeyToken=7cec85d7bea7798e",
                                    "dataTypeName": "char"
                                },
                                {
                                    "isBytes": false,
                                    "isChars": false,
                                    "isSqlVariant": false,
                                    "isUdt": false,
                                    "isXml": false,
                                    "isJson": false,
                                    "sqlDbType": 8,
                                    "isHierarchyId": false,
                                    "isSqlXmlType": false,
                                    "isUnknownType": false,
                                    "isUpdatable": true,
                                    "allowDBNull": false,
                                    "baseCatalogName": null,
                                    "baseColumnName": null,
                                    "baseSchemaName": null,
                                    "baseServerName": null,
                                    "baseTableName": null,
                                    "columnName": "Dep_ID",
                                    "columnOrdinal": 6,
                                    "columnSize": 4,
                                    "isAliased": null,
                                    "isAutoIncrement": false,
                                    "isExpression": null,
                                    "isHidden": null,
                                    "isIdentity": false,
                                    "isKey": null,
                                    "isLong": false,
                                    "isReadOnly": false,
                                    "isUnique": false,
                                    "numericPrecision": 10,
                                    "numericScale": 255,
                                    "udtAssemblyQualifiedName": null,
                                    "dataType": "System.Int32, System.Private.CoreLib, Version=4.0.0.0, Culture=neutral, PublicKeyToken=7cec85d7bea7798e",
                                    "dataTypeName": "int"
                                }
                            ],
                            "specialAction": {
                                "none": true,
                                "expectYukonXMLShowPlan": false
                            }
                        }
                    },
                    "execution_count": 17,
                    "data": {
                        "application/vnd.dataresource+json": {
                            "schema": {
                                "fields": [
                                    {
                                        "name": "Emp_ID"
                                    },
                                    {
                                        "name": "Emp_FirstName"
                                    },
                                    {
                                        "name": "Emp_LastName"
                                    },
                                    {
                                        "name": "Emp_Age"
                                    },
                                    {
                                        "name": "Emp_Salary"
                                    },
                                    {
                                        "name": "Emp_Address"
                                    },
                                    {
                                        "name": "Dep_ID"
                                    }
                                ]
                            },
                            "data": [
                                {
                                    "0": "1",
                                    "1": "Gopika",
                                    "2": "Krishna",
                                    "3": "32",
                                    "4": "30000.00000",
                                    "5": "Cambridge                ",
                                    "6": "2"
                                },
                                {
                                    "0": "9",
                                    "1": "Joe",
                                    "2": "Laton",
                                    "3": "32",
                                    "4": "41000.00000",
                                    "5": "Manchester               ",
                                    "6": "3"
                                }
                            ]
                        },
                        "text/html": [
                            "<table>",
                            "<tr><th>Emp_ID</th><th>Emp_FirstName</th><th>Emp_LastName</th><th>Emp_Age</th><th>Emp_Salary</th><th>Emp_Address</th><th>Dep_ID</th></tr>",
                            "<tr><td>1</td><td>Gopika</td><td>Krishna</td><td>32</td><td>30000.00000</td><td>Cambridge                </td><td>2</td></tr>",
                            "<tr><td>9</td><td>Joe</td><td>Laton</td><td>32</td><td>41000.00000</td><td>Manchester               </td><td>3</td></tr>",
                            "</table>"
                        ]
                    }
                }
            ],
            "execution_count": 17
        },
        {
            "cell_type": "markdown",
            "source": [
                "9.  Run a complex query (more than one field/column) to demonstrate the relations between the 2 tables"
            ],
            "metadata": {
                "azdata_cell_guid": "4f14f07a-0eab-44f0-aadb-730e72bd555f"
            }
        },
        {
            "cell_type": "code",
            "source": [
                "SELECT employer_table.Emp_FirstName, employer_table.Emp_Age, employer_table.Emp_Salary, department_table.Dep_Name\r\n",
                "FROM employer_table \r\n",
                "RIGHT JOIN department_table ON employer_table.Dep_ID = department_table.Dep_ID\r\n",
                "ORDER BY employer_table.Dep_ID"
            ],
            "metadata": {
                "azdata_cell_guid": "0686483f-8c05-484c-a619-d329fd1cd401"
            },
            "outputs": [
                {
                    "output_type": "display_data",
                    "data": {
                        "text/html": "(9 rows affected)"
                    },
                    "metadata": {}
                },
                {
                    "output_type": "display_data",
                    "data": {
                        "text/html": "Total execution time: 00:00:00.016"
                    },
                    "metadata": {}
                },
                {
                    "output_type": "execute_result",
                    "metadata": {
                        "resultSet": {
                            "id": 0,
                            "batchId": 0,
                            "rowCount": 9,
                            "complete": true,
                            "columnInfo": [
                                {
                                    "isBytes": false,
                                    "isChars": true,
                                    "isSqlVariant": false,
                                    "isUdt": false,
                                    "isXml": false,
                                    "isJson": false,
                                    "sqlDbType": 22,
                                    "isHierarchyId": false,
                                    "isSqlXmlType": false,
                                    "isUnknownType": false,
                                    "isUpdatable": true,
                                    "allowDBNull": true,
                                    "baseCatalogName": null,
                                    "baseColumnName": null,
                                    "baseSchemaName": null,
                                    "baseServerName": null,
                                    "baseTableName": null,
                                    "columnName": "Emp_FirstName",
                                    "columnOrdinal": 0,
                                    "columnSize": 20,
                                    "isAliased": null,
                                    "isAutoIncrement": false,
                                    "isExpression": null,
                                    "isHidden": null,
                                    "isIdentity": false,
                                    "isKey": null,
                                    "isLong": false,
                                    "isReadOnly": false,
                                    "isUnique": false,
                                    "numericPrecision": 255,
                                    "numericScale": 255,
                                    "udtAssemblyQualifiedName": null,
                                    "dataType": "System.String, System.Private.CoreLib, Version=4.0.0.0, Culture=neutral, PublicKeyToken=7cec85d7bea7798e",
                                    "dataTypeName": "varchar"
                                },
                                {
                                    "isBytes": false,
                                    "isChars": false,
                                    "isSqlVariant": false,
                                    "isUdt": false,
                                    "isXml": false,
                                    "isJson": false,
                                    "sqlDbType": 8,
                                    "isHierarchyId": false,
                                    "isSqlXmlType": false,
                                    "isUnknownType": false,
                                    "isUpdatable": true,
                                    "allowDBNull": true,
                                    "baseCatalogName": null,
                                    "baseColumnName": null,
                                    "baseSchemaName": null,
                                    "baseServerName": null,
                                    "baseTableName": null,
                                    "columnName": "Emp_Age",
                                    "columnOrdinal": 1,
                                    "columnSize": 4,
                                    "isAliased": null,
                                    "isAutoIncrement": false,
                                    "isExpression": null,
                                    "isHidden": null,
                                    "isIdentity": false,
                                    "isKey": null,
                                    "isLong": false,
                                    "isReadOnly": false,
                                    "isUnique": false,
                                    "numericPrecision": 10,
                                    "numericScale": 255,
                                    "udtAssemblyQualifiedName": null,
                                    "dataType": "System.Int32, System.Private.CoreLib, Version=4.0.0.0, Culture=neutral, PublicKeyToken=7cec85d7bea7798e",
                                    "dataTypeName": "int"
                                },
                                {
                                    "isBytes": false,
                                    "isChars": false,
                                    "isSqlVariant": false,
                                    "isUdt": false,
                                    "isXml": false,
                                    "isJson": false,
                                    "sqlDbType": 5,
                                    "isHierarchyId": false,
                                    "isSqlXmlType": false,
                                    "isUnknownType": false,
                                    "isUpdatable": true,
                                    "allowDBNull": true,
                                    "baseCatalogName": null,
                                    "baseColumnName": null,
                                    "baseSchemaName": null,
                                    "baseServerName": null,
                                    "baseTableName": null,
                                    "columnName": "Emp_Salary",
                                    "columnOrdinal": 2,
                                    "columnSize": 17,
                                    "isAliased": null,
                                    "isAutoIncrement": false,
                                    "isExpression": null,
                                    "isHidden": null,
                                    "isIdentity": false,
                                    "isKey": null,
                                    "isLong": false,
                                    "isReadOnly": false,
                                    "isUnique": false,
                                    "numericPrecision": 18,
                                    "numericScale": 5,
                                    "udtAssemblyQualifiedName": null,
                                    "dataType": "System.Decimal, System.Private.CoreLib, Version=4.0.0.0, Culture=neutral, PublicKeyToken=7cec85d7bea7798e",
                                    "dataTypeName": "decimal"
                                },
                                {
                                    "isBytes": false,
                                    "isChars": true,
                                    "isSqlVariant": false,
                                    "isUdt": false,
                                    "isXml": false,
                                    "isJson": false,
                                    "sqlDbType": 22,
                                    "isHierarchyId": false,
                                    "isSqlXmlType": false,
                                    "isUnknownType": false,
                                    "isUpdatable": true,
                                    "allowDBNull": false,
                                    "baseCatalogName": null,
                                    "baseColumnName": null,
                                    "baseSchemaName": null,
                                    "baseServerName": null,
                                    "baseTableName": null,
                                    "columnName": "Dep_Name",
                                    "columnOrdinal": 3,
                                    "columnSize": 20,
                                    "isAliased": null,
                                    "isAutoIncrement": false,
                                    "isExpression": null,
                                    "isHidden": null,
                                    "isIdentity": false,
                                    "isKey": null,
                                    "isLong": false,
                                    "isReadOnly": false,
                                    "isUnique": false,
                                    "numericPrecision": 255,
                                    "numericScale": 255,
                                    "udtAssemblyQualifiedName": null,
                                    "dataType": "System.String, System.Private.CoreLib, Version=4.0.0.0, Culture=neutral, PublicKeyToken=7cec85d7bea7798e",
                                    "dataTypeName": "varchar"
                                }
                            ],
                            "specialAction": {
                                "none": true,
                                "expectYukonXMLShowPlan": false
                            }
                        }
                    },
                    "execution_count": 16,
                    "data": {
                        "application/vnd.dataresource+json": {
                            "schema": {
                                "fields": [
                                    {
                                        "name": "Emp_FirstName"
                                    },
                                    {
                                        "name": "Emp_Age"
                                    },
                                    {
                                        "name": "Emp_Salary"
                                    },
                                    {
                                        "name": "Dep_Name"
                                    }
                                ]
                            },
                            "data": [
                                {
                                    "0": "Sita",
                                    "1": "24",
                                    "2": "40000.00000",
                                    "3": "Human Resources"
                                },
                                {
                                    "0": "Sara",
                                    "1": "34",
                                    "2": "36000.00000",
                                    "3": "Human Resources"
                                },
                                {
                                    "0": "James",
                                    "1": "23",
                                    "2": "27000.00000",
                                    "3": "Human Resources"
                                },
                                {
                                    "0": "Gopika",
                                    "1": "32",
                                    "2": "30000.00000",
                                    "3": "Development"
                                },
                                {
                                    "0": "Gama",
                                    "1": "25",
                                    "2": "32000.00000",
                                    "3": "Development"
                                },
                                {
                                    "0": "Sai",
                                    "1": "30",
                                    "2": "45000.00000",
                                    "3": "Sales"
                                },
                                {
                                    "0": "Alfa",
                                    "1": "28",
                                    "2": "25000.00000",
                                    "3": "Sales"
                                },
                                {
                                    "0": "Joe",
                                    "1": "32",
                                    "2": "41000.00000",
                                    "3": "Sales"
                                },
                                {
                                    "0": "Latha",
                                    "1": "36",
                                    "2": "50000.00000",
                                    "3": "Technical Support"
                                }
                            ]
                        },
                        "text/html": [
                            "<table>",
                            "<tr><th>Emp_FirstName</th><th>Emp_Age</th><th>Emp_Salary</th><th>Dep_Name</th></tr>",
                            "<tr><td>Sita</td><td>24</td><td>40000.00000</td><td>Human Resources</td></tr>",
                            "<tr><td>Sara</td><td>34</td><td>36000.00000</td><td>Human Resources</td></tr>",
                            "<tr><td>James</td><td>23</td><td>27000.00000</td><td>Human Resources</td></tr>",
                            "<tr><td>Gopika</td><td>32</td><td>30000.00000</td><td>Development</td></tr>",
                            "<tr><td>Gama</td><td>25</td><td>32000.00000</td><td>Development</td></tr>",
                            "<tr><td>Sai</td><td>30</td><td>45000.00000</td><td>Sales</td></tr>",
                            "<tr><td>Alfa</td><td>28</td><td>25000.00000</td><td>Sales</td></tr>",
                            "<tr><td>Joe</td><td>32</td><td>41000.00000</td><td>Sales</td></tr>",
                            "<tr><td>Latha</td><td>36</td><td>50000.00000</td><td>Technical Support</td></tr>",
                            "</table>"
                        ]
                    }
                }
            ],
            "execution_count": 16
        },
        {
            "cell_type": "markdown",
            "source": [
                "10.  Retrieve all your data sorted in ascending order on an appropriate field (one table)"
            ],
            "metadata": {
                "azdata_cell_guid": "ee69e8bb-c274-4817-a7c6-48966fc55f25"
            }
        },
        {
            "cell_type": "code",
            "source": [
                "SELECT * FROM employer_table ORDER BY Emp_Age ASC;"
            ],
            "metadata": {
                "azdata_cell_guid": "c7c605e3-2e2f-494a-b40c-a9e14923d4a1"
            },
            "outputs": [
                {
                    "output_type": "display_data",
                    "data": {
                        "text/html": "(9 rows affected)"
                    },
                    "metadata": {}
                },
                {
                    "output_type": "display_data",
                    "data": {
                        "text/html": "Total execution time: 00:00:00.103"
                    },
                    "metadata": {}
                },
                {
                    "output_type": "execute_result",
                    "metadata": {
                        "resultSet": {
                            "id": 0,
                            "batchId": 0,
                            "rowCount": 9,
                            "complete": false,
                            "columnInfo": [
                                {
                                    "isBytes": false,
                                    "isChars": false,
                                    "isSqlVariant": false,
                                    "isUdt": false,
                                    "isXml": false,
                                    "isJson": false,
                                    "sqlDbType": 8,
                                    "isHierarchyId": false,
                                    "isSqlXmlType": false,
                                    "isUnknownType": false,
                                    "isUpdatable": true,
                                    "allowDBNull": false,
                                    "baseCatalogName": null,
                                    "baseColumnName": null,
                                    "baseSchemaName": null,
                                    "baseServerName": null,
                                    "baseTableName": null,
                                    "columnName": "Emp_ID",
                                    "columnOrdinal": 0,
                                    "columnSize": 4,
                                    "isAliased": null,
                                    "isAutoIncrement": false,
                                    "isExpression": null,
                                    "isHidden": null,
                                    "isIdentity": false,
                                    "isKey": null,
                                    "isLong": false,
                                    "isReadOnly": false,
                                    "isUnique": false,
                                    "numericPrecision": 10,
                                    "numericScale": 255,
                                    "udtAssemblyQualifiedName": null,
                                    "dataType": "System.Int32, System.Private.CoreLib, Version=4.0.0.0, Culture=neutral, PublicKeyToken=7cec85d7bea7798e",
                                    "dataTypeName": "int"
                                },
                                {
                                    "isBytes": false,
                                    "isChars": true,
                                    "isSqlVariant": false,
                                    "isUdt": false,
                                    "isXml": false,
                                    "isJson": false,
                                    "sqlDbType": 22,
                                    "isHierarchyId": false,
                                    "isSqlXmlType": false,
                                    "isUnknownType": false,
                                    "isUpdatable": true,
                                    "allowDBNull": false,
                                    "baseCatalogName": null,
                                    "baseColumnName": null,
                                    "baseSchemaName": null,
                                    "baseServerName": null,
                                    "baseTableName": null,
                                    "columnName": "Emp_FirstName",
                                    "columnOrdinal": 1,
                                    "columnSize": 20,
                                    "isAliased": null,
                                    "isAutoIncrement": false,
                                    "isExpression": null,
                                    "isHidden": null,
                                    "isIdentity": false,
                                    "isKey": null,
                                    "isLong": false,
                                    "isReadOnly": false,
                                    "isUnique": false,
                                    "numericPrecision": 255,
                                    "numericScale": 255,
                                    "udtAssemblyQualifiedName": null,
                                    "dataType": "System.String, System.Private.CoreLib, Version=4.0.0.0, Culture=neutral, PublicKeyToken=7cec85d7bea7798e",
                                    "dataTypeName": "varchar"
                                },
                                {
                                    "isBytes": false,
                                    "isChars": true,
                                    "isSqlVariant": false,
                                    "isUdt": false,
                                    "isXml": false,
                                    "isJson": false,
                                    "sqlDbType": 22,
                                    "isHierarchyId": false,
                                    "isSqlXmlType": false,
                                    "isUnknownType": false,
                                    "isUpdatable": true,
                                    "allowDBNull": false,
                                    "baseCatalogName": null,
                                    "baseColumnName": null,
                                    "baseSchemaName": null,
                                    "baseServerName": null,
                                    "baseTableName": null,
                                    "columnName": "Emp_LastName",
                                    "columnOrdinal": 2,
                                    "columnSize": 20,
                                    "isAliased": null,
                                    "isAutoIncrement": false,
                                    "isExpression": null,
                                    "isHidden": null,
                                    "isIdentity": false,
                                    "isKey": null,
                                    "isLong": false,
                                    "isReadOnly": false,
                                    "isUnique": false,
                                    "numericPrecision": 255,
                                    "numericScale": 255,
                                    "udtAssemblyQualifiedName": null,
                                    "dataType": "System.String, System.Private.CoreLib, Version=4.0.0.0, Culture=neutral, PublicKeyToken=7cec85d7bea7798e",
                                    "dataTypeName": "varchar"
                                },
                                {
                                    "isBytes": false,
                                    "isChars": false,
                                    "isSqlVariant": false,
                                    "isUdt": false,
                                    "isXml": false,
                                    "isJson": false,
                                    "sqlDbType": 8,
                                    "isHierarchyId": false,
                                    "isSqlXmlType": false,
                                    "isUnknownType": false,
                                    "isUpdatable": true,
                                    "allowDBNull": true,
                                    "baseCatalogName": null,
                                    "baseColumnName": null,
                                    "baseSchemaName": null,
                                    "baseServerName": null,
                                    "baseTableName": null,
                                    "columnName": "Emp_Age",
                                    "columnOrdinal": 3,
                                    "columnSize": 4,
                                    "isAliased": null,
                                    "isAutoIncrement": false,
                                    "isExpression": null,
                                    "isHidden": null,
                                    "isIdentity": false,
                                    "isKey": null,
                                    "isLong": false,
                                    "isReadOnly": false,
                                    "isUnique": false,
                                    "numericPrecision": 10,
                                    "numericScale": 255,
                                    "udtAssemblyQualifiedName": null,
                                    "dataType": "System.Int32, System.Private.CoreLib, Version=4.0.0.0, Culture=neutral, PublicKeyToken=7cec85d7bea7798e",
                                    "dataTypeName": "int"
                                },
                                {
                                    "isBytes": false,
                                    "isChars": false,
                                    "isSqlVariant": false,
                                    "isUdt": false,
                                    "isXml": false,
                                    "isJson": false,
                                    "sqlDbType": 5,
                                    "isHierarchyId": false,
                                    "isSqlXmlType": false,
                                    "isUnknownType": false,
                                    "isUpdatable": true,
                                    "allowDBNull": false,
                                    "baseCatalogName": null,
                                    "baseColumnName": null,
                                    "baseSchemaName": null,
                                    "baseServerName": null,
                                    "baseTableName": null,
                                    "columnName": "Emp_Salary",
                                    "columnOrdinal": 4,
                                    "columnSize": 17,
                                    "isAliased": null,
                                    "isAutoIncrement": false,
                                    "isExpression": null,
                                    "isHidden": null,
                                    "isIdentity": false,
                                    "isKey": null,
                                    "isLong": false,
                                    "isReadOnly": false,
                                    "isUnique": false,
                                    "numericPrecision": 18,
                                    "numericScale": 5,
                                    "udtAssemblyQualifiedName": null,
                                    "dataType": "System.Decimal, System.Private.CoreLib, Version=4.0.0.0, Culture=neutral, PublicKeyToken=7cec85d7bea7798e",
                                    "dataTypeName": "decimal"
                                },
                                {
                                    "isBytes": false,
                                    "isChars": false,
                                    "isSqlVariant": false,
                                    "isUdt": false,
                                    "isXml": false,
                                    "isJson": false,
                                    "sqlDbType": 3,
                                    "isHierarchyId": false,
                                    "isSqlXmlType": false,
                                    "isUnknownType": false,
                                    "isUpdatable": true,
                                    "allowDBNull": true,
                                    "baseCatalogName": null,
                                    "baseColumnName": null,
                                    "baseSchemaName": null,
                                    "baseServerName": null,
                                    "baseTableName": null,
                                    "columnName": "Emp_Address",
                                    "columnOrdinal": 5,
                                    "columnSize": 25,
                                    "isAliased": null,
                                    "isAutoIncrement": false,
                                    "isExpression": null,
                                    "isHidden": null,
                                    "isIdentity": false,
                                    "isKey": null,
                                    "isLong": false,
                                    "isReadOnly": false,
                                    "isUnique": false,
                                    "numericPrecision": 255,
                                    "numericScale": 255,
                                    "udtAssemblyQualifiedName": null,
                                    "dataType": "System.String, System.Private.CoreLib, Version=4.0.0.0, Culture=neutral, PublicKeyToken=7cec85d7bea7798e",
                                    "dataTypeName": "char"
                                },
                                {
                                    "isBytes": false,
                                    "isChars": false,
                                    "isSqlVariant": false,
                                    "isUdt": false,
                                    "isXml": false,
                                    "isJson": false,
                                    "sqlDbType": 8,
                                    "isHierarchyId": false,
                                    "isSqlXmlType": false,
                                    "isUnknownType": false,
                                    "isUpdatable": true,
                                    "allowDBNull": false,
                                    "baseCatalogName": null,
                                    "baseColumnName": null,
                                    "baseSchemaName": null,
                                    "baseServerName": null,
                                    "baseTableName": null,
                                    "columnName": "Dep_ID",
                                    "columnOrdinal": 6,
                                    "columnSize": 4,
                                    "isAliased": null,
                                    "isAutoIncrement": false,
                                    "isExpression": null,
                                    "isHidden": null,
                                    "isIdentity": false,
                                    "isKey": null,
                                    "isLong": false,
                                    "isReadOnly": false,
                                    "isUnique": false,
                                    "numericPrecision": 10,
                                    "numericScale": 255,
                                    "udtAssemblyQualifiedName": null,
                                    "dataType": "System.Int32, System.Private.CoreLib, Version=4.0.0.0, Culture=neutral, PublicKeyToken=7cec85d7bea7798e",
                                    "dataTypeName": "int"
                                }
                            ],
                            "specialAction": null
                        }
                    },
                    "execution_count": 18,
                    "data": {
                        "application/vnd.dataresource+json": {
                            "schema": {
                                "fields": [
                                    {
                                        "name": "Emp_ID"
                                    },
                                    {
                                        "name": "Emp_FirstName"
                                    },
                                    {
                                        "name": "Emp_LastName"
                                    },
                                    {
                                        "name": "Emp_Age"
                                    },
                                    {
                                        "name": "Emp_Salary"
                                    },
                                    {
                                        "name": "Emp_Address"
                                    },
                                    {
                                        "name": "Dep_ID"
                                    }
                                ]
                            },
                            "data": [
                                {
                                    "0": "10",
                                    "1": "James",
                                    "2": "Pande",
                                    "3": "23",
                                    "4": "27000.00000",
                                    "5": "Bristol                  ",
                                    "6": "1"
                                },
                                {
                                    "0": "3",
                                    "1": "Sita",
                                    "2": "Ram",
                                    "3": "24",
                                    "4": "40000.00000",
                                    "5": "London                   ",
                                    "6": "1"
                                },
                                {
                                    "0": "6",
                                    "1": "Gama",
                                    "2": "Geen",
                                    "3": "25",
                                    "4": "32000.00000",
                                    "5": "Milton                   ",
                                    "6": "2"
                                },
                                {
                                    "0": "5",
                                    "1": "Alfa",
                                    "2": "Beta",
                                    "3": "28",
                                    "4": "25000.00000",
                                    "5": "Luton                    ",
                                    "6": "3"
                                },
                                {
                                    "0": "2",
                                    "1": "Sai",
                                    "2": "Ram",
                                    "3": "30",
                                    "4": "45000.00000",
                                    "5": "Peterborough             ",
                                    "6": "3"
                                },
                                {
                                    "0": "1",
                                    "1": "Gopika",
                                    "2": "Krishna",
                                    "3": "32",
                                    "4": "30000.00000",
                                    "5": "Cambridge                ",
                                    "6": "2"
                                },
                                {
                                    "0": "9",
                                    "1": "Joe",
                                    "2": "Laton",
                                    "3": "32",
                                    "4": "41000.00000",
                                    "5": "Manchester               ",
                                    "6": "3"
                                },
                                {
                                    "0": "7",
                                    "1": "Sara",
                                    "2": "Patel",
                                    "3": "34",
                                    "4": "36000.00000",
                                    "5": "Wales                    ",
                                    "6": "1"
                                },
                                {
                                    "0": "4",
                                    "1": "Latha",
                                    "2": "Shiva",
                                    "3": "36",
                                    "4": "50000.00000",
                                    "5": "Manchester               ",
                                    "6": "4"
                                }
                            ]
                        },
                        "text/html": [
                            "<table>",
                            "<tr><th>Emp_ID</th><th>Emp_FirstName</th><th>Emp_LastName</th><th>Emp_Age</th><th>Emp_Salary</th><th>Emp_Address</th><th>Dep_ID</th></tr>",
                            "<tr><td>10</td><td>James</td><td>Pande</td><td>23</td><td>27000.00000</td><td>Bristol                  </td><td>1</td></tr>",
                            "<tr><td>3</td><td>Sita</td><td>Ram</td><td>24</td><td>40000.00000</td><td>London                   </td><td>1</td></tr>",
                            "<tr><td>6</td><td>Gama</td><td>Geen</td><td>25</td><td>32000.00000</td><td>Milton                   </td><td>2</td></tr>",
                            "<tr><td>5</td><td>Alfa</td><td>Beta</td><td>28</td><td>25000.00000</td><td>Luton                    </td><td>3</td></tr>",
                            "<tr><td>2</td><td>Sai</td><td>Ram</td><td>30</td><td>45000.00000</td><td>Peterborough             </td><td>3</td></tr>",
                            "<tr><td>1</td><td>Gopika</td><td>Krishna</td><td>32</td><td>30000.00000</td><td>Cambridge                </td><td>2</td></tr>",
                            "<tr><td>9</td><td>Joe</td><td>Laton</td><td>32</td><td>41000.00000</td><td>Manchester               </td><td>3</td></tr>",
                            "<tr><td>7</td><td>Sara</td><td>Patel</td><td>34</td><td>36000.00000</td><td>Wales                    </td><td>1</td></tr>",
                            "<tr><td>4</td><td>Latha</td><td>Shiva</td><td>36</td><td>50000.00000</td><td>Manchester               </td><td>4</td></tr>",
                            "</table>"
                        ]
                    }
                }
            ],
            "execution_count": 18
        },
        {
            "cell_type": "markdown",
            "source": [
                "11.  Filter data using comparison operators (one table"
            ],
            "metadata": {
                "azdata_cell_guid": "a59696e1-5dea-4efa-b5cb-2a2f6ab876f7"
            }
        },
        {
            "cell_type": "code",
            "source": [
                "SELECT * FROM employer_table WHERE Emp_Age >= 30;"
            ],
            "metadata": {
                "azdata_cell_guid": "af702596-1797-4b2f-940b-9288d3a382d4"
            },
            "outputs": [
                {
                    "output_type": "display_data",
                    "data": {
                        "text/html": "(5 rows affected)"
                    },
                    "metadata": {}
                },
                {
                    "output_type": "display_data",
                    "data": {
                        "text/html": "Total execution time: 00:00:00.159"
                    },
                    "metadata": {}
                },
                {
                    "output_type": "execute_result",
                    "metadata": {
                        "resultSet": {
                            "id": 0,
                            "batchId": 0,
                            "rowCount": 5,
                            "complete": true,
                            "columnInfo": [
                                {
                                    "isBytes": false,
                                    "isChars": false,
                                    "isSqlVariant": false,
                                    "isUdt": false,
                                    "isXml": false,
                                    "isJson": false,
                                    "sqlDbType": 8,
                                    "isHierarchyId": false,
                                    "isSqlXmlType": false,
                                    "isUnknownType": false,
                                    "isUpdatable": true,
                                    "allowDBNull": false,
                                    "baseCatalogName": null,
                                    "baseColumnName": null,
                                    "baseSchemaName": null,
                                    "baseServerName": null,
                                    "baseTableName": null,
                                    "columnName": "Emp_ID",
                                    "columnOrdinal": 0,
                                    "columnSize": 4,
                                    "isAliased": null,
                                    "isAutoIncrement": false,
                                    "isExpression": null,
                                    "isHidden": null,
                                    "isIdentity": false,
                                    "isKey": null,
                                    "isLong": false,
                                    "isReadOnly": false,
                                    "isUnique": false,
                                    "numericPrecision": 10,
                                    "numericScale": 255,
                                    "udtAssemblyQualifiedName": null,
                                    "dataType": "System.Int32, System.Private.CoreLib, Version=4.0.0.0, Culture=neutral, PublicKeyToken=7cec85d7bea7798e",
                                    "dataTypeName": "int"
                                },
                                {
                                    "isBytes": false,
                                    "isChars": true,
                                    "isSqlVariant": false,
                                    "isUdt": false,
                                    "isXml": false,
                                    "isJson": false,
                                    "sqlDbType": 22,
                                    "isHierarchyId": false,
                                    "isSqlXmlType": false,
                                    "isUnknownType": false,
                                    "isUpdatable": true,
                                    "allowDBNull": false,
                                    "baseCatalogName": null,
                                    "baseColumnName": null,
                                    "baseSchemaName": null,
                                    "baseServerName": null,
                                    "baseTableName": null,
                                    "columnName": "Emp_FirstName",
                                    "columnOrdinal": 1,
                                    "columnSize": 20,
                                    "isAliased": null,
                                    "isAutoIncrement": false,
                                    "isExpression": null,
                                    "isHidden": null,
                                    "isIdentity": false,
                                    "isKey": null,
                                    "isLong": false,
                                    "isReadOnly": false,
                                    "isUnique": false,
                                    "numericPrecision": 255,
                                    "numericScale": 255,
                                    "udtAssemblyQualifiedName": null,
                                    "dataType": "System.String, System.Private.CoreLib, Version=4.0.0.0, Culture=neutral, PublicKeyToken=7cec85d7bea7798e",
                                    "dataTypeName": "varchar"
                                },
                                {
                                    "isBytes": false,
                                    "isChars": true,
                                    "isSqlVariant": false,
                                    "isUdt": false,
                                    "isXml": false,
                                    "isJson": false,
                                    "sqlDbType": 22,
                                    "isHierarchyId": false,
                                    "isSqlXmlType": false,
                                    "isUnknownType": false,
                                    "isUpdatable": true,
                                    "allowDBNull": false,
                                    "baseCatalogName": null,
                                    "baseColumnName": null,
                                    "baseSchemaName": null,
                                    "baseServerName": null,
                                    "baseTableName": null,
                                    "columnName": "Emp_LastName",
                                    "columnOrdinal": 2,
                                    "columnSize": 20,
                                    "isAliased": null,
                                    "isAutoIncrement": false,
                                    "isExpression": null,
                                    "isHidden": null,
                                    "isIdentity": false,
                                    "isKey": null,
                                    "isLong": false,
                                    "isReadOnly": false,
                                    "isUnique": false,
                                    "numericPrecision": 255,
                                    "numericScale": 255,
                                    "udtAssemblyQualifiedName": null,
                                    "dataType": "System.String, System.Private.CoreLib, Version=4.0.0.0, Culture=neutral, PublicKeyToken=7cec85d7bea7798e",
                                    "dataTypeName": "varchar"
                                },
                                {
                                    "isBytes": false,
                                    "isChars": false,
                                    "isSqlVariant": false,
                                    "isUdt": false,
                                    "isXml": false,
                                    "isJson": false,
                                    "sqlDbType": 8,
                                    "isHierarchyId": false,
                                    "isSqlXmlType": false,
                                    "isUnknownType": false,
                                    "isUpdatable": true,
                                    "allowDBNull": true,
                                    "baseCatalogName": null,
                                    "baseColumnName": null,
                                    "baseSchemaName": null,
                                    "baseServerName": null,
                                    "baseTableName": null,
                                    "columnName": "Emp_Age",
                                    "columnOrdinal": 3,
                                    "columnSize": 4,
                                    "isAliased": null,
                                    "isAutoIncrement": false,
                                    "isExpression": null,
                                    "isHidden": null,
                                    "isIdentity": false,
                                    "isKey": null,
                                    "isLong": false,
                                    "isReadOnly": false,
                                    "isUnique": false,
                                    "numericPrecision": 10,
                                    "numericScale": 255,
                                    "udtAssemblyQualifiedName": null,
                                    "dataType": "System.Int32, System.Private.CoreLib, Version=4.0.0.0, Culture=neutral, PublicKeyToken=7cec85d7bea7798e",
                                    "dataTypeName": "int"
                                },
                                {
                                    "isBytes": false,
                                    "isChars": false,
                                    "isSqlVariant": false,
                                    "isUdt": false,
                                    "isXml": false,
                                    "isJson": false,
                                    "sqlDbType": 5,
                                    "isHierarchyId": false,
                                    "isSqlXmlType": false,
                                    "isUnknownType": false,
                                    "isUpdatable": true,
                                    "allowDBNull": false,
                                    "baseCatalogName": null,
                                    "baseColumnName": null,
                                    "baseSchemaName": null,
                                    "baseServerName": null,
                                    "baseTableName": null,
                                    "columnName": "Emp_Salary",
                                    "columnOrdinal": 4,
                                    "columnSize": 17,
                                    "isAliased": null,
                                    "isAutoIncrement": false,
                                    "isExpression": null,
                                    "isHidden": null,
                                    "isIdentity": false,
                                    "isKey": null,
                                    "isLong": false,
                                    "isReadOnly": false,
                                    "isUnique": false,
                                    "numericPrecision": 18,
                                    "numericScale": 5,
                                    "udtAssemblyQualifiedName": null,
                                    "dataType": "System.Decimal, System.Private.CoreLib, Version=4.0.0.0, Culture=neutral, PublicKeyToken=7cec85d7bea7798e",
                                    "dataTypeName": "decimal"
                                },
                                {
                                    "isBytes": false,
                                    "isChars": false,
                                    "isSqlVariant": false,
                                    "isUdt": false,
                                    "isXml": false,
                                    "isJson": false,
                                    "sqlDbType": 3,
                                    "isHierarchyId": false,
                                    "isSqlXmlType": false,
                                    "isUnknownType": false,
                                    "isUpdatable": true,
                                    "allowDBNull": true,
                                    "baseCatalogName": null,
                                    "baseColumnName": null,
                                    "baseSchemaName": null,
                                    "baseServerName": null,
                                    "baseTableName": null,
                                    "columnName": "Emp_Address",
                                    "columnOrdinal": 5,
                                    "columnSize": 25,
                                    "isAliased": null,
                                    "isAutoIncrement": false,
                                    "isExpression": null,
                                    "isHidden": null,
                                    "isIdentity": false,
                                    "isKey": null,
                                    "isLong": false,
                                    "isReadOnly": false,
                                    "isUnique": false,
                                    "numericPrecision": 255,
                                    "numericScale": 255,
                                    "udtAssemblyQualifiedName": null,
                                    "dataType": "System.String, System.Private.CoreLib, Version=4.0.0.0, Culture=neutral, PublicKeyToken=7cec85d7bea7798e",
                                    "dataTypeName": "char"
                                },
                                {
                                    "isBytes": false,
                                    "isChars": false,
                                    "isSqlVariant": false,
                                    "isUdt": false,
                                    "isXml": false,
                                    "isJson": false,
                                    "sqlDbType": 8,
                                    "isHierarchyId": false,
                                    "isSqlXmlType": false,
                                    "isUnknownType": false,
                                    "isUpdatable": true,
                                    "allowDBNull": false,
                                    "baseCatalogName": null,
                                    "baseColumnName": null,
                                    "baseSchemaName": null,
                                    "baseServerName": null,
                                    "baseTableName": null,
                                    "columnName": "Dep_ID",
                                    "columnOrdinal": 6,
                                    "columnSize": 4,
                                    "isAliased": null,
                                    "isAutoIncrement": false,
                                    "isExpression": null,
                                    "isHidden": null,
                                    "isIdentity": false,
                                    "isKey": null,
                                    "isLong": false,
                                    "isReadOnly": false,
                                    "isUnique": false,
                                    "numericPrecision": 10,
                                    "numericScale": 255,
                                    "udtAssemblyQualifiedName": null,
                                    "dataType": "System.Int32, System.Private.CoreLib, Version=4.0.0.0, Culture=neutral, PublicKeyToken=7cec85d7bea7798e",
                                    "dataTypeName": "int"
                                }
                            ],
                            "specialAction": {
                                "none": true,
                                "expectYukonXMLShowPlan": false
                            }
                        }
                    },
                    "execution_count": 19,
                    "data": {
                        "application/vnd.dataresource+json": {
                            "schema": {
                                "fields": [
                                    {
                                        "name": "Emp_ID"
                                    },
                                    {
                                        "name": "Emp_FirstName"
                                    },
                                    {
                                        "name": "Emp_LastName"
                                    },
                                    {
                                        "name": "Emp_Age"
                                    },
                                    {
                                        "name": "Emp_Salary"
                                    },
                                    {
                                        "name": "Emp_Address"
                                    },
                                    {
                                        "name": "Dep_ID"
                                    }
                                ]
                            },
                            "data": [
                                {
                                    "0": "1",
                                    "1": "Gopika",
                                    "2": "Krishna",
                                    "3": "32",
                                    "4": "30000.00000",
                                    "5": "Cambridge                ",
                                    "6": "2"
                                },
                                {
                                    "0": "2",
                                    "1": "Sai",
                                    "2": "Ram",
                                    "3": "30",
                                    "4": "45000.00000",
                                    "5": "Peterborough             ",
                                    "6": "3"
                                },
                                {
                                    "0": "4",
                                    "1": "Latha",
                                    "2": "Shiva",
                                    "3": "36",
                                    "4": "50000.00000",
                                    "5": "Manchester               ",
                                    "6": "4"
                                },
                                {
                                    "0": "7",
                                    "1": "Sara",
                                    "2": "Patel",
                                    "3": "34",
                                    "4": "36000.00000",
                                    "5": "Wales                    ",
                                    "6": "1"
                                },
                                {
                                    "0": "9",
                                    "1": "Joe",
                                    "2": "Laton",
                                    "3": "32",
                                    "4": "41000.00000",
                                    "5": "Manchester               ",
                                    "6": "3"
                                }
                            ]
                        },
                        "text/html": [
                            "<table>",
                            "<tr><th>Emp_ID</th><th>Emp_FirstName</th><th>Emp_LastName</th><th>Emp_Age</th><th>Emp_Salary</th><th>Emp_Address</th><th>Dep_ID</th></tr>",
                            "<tr><td>1</td><td>Gopika</td><td>Krishna</td><td>32</td><td>30000.00000</td><td>Cambridge                </td><td>2</td></tr>",
                            "<tr><td>2</td><td>Sai</td><td>Ram</td><td>30</td><td>45000.00000</td><td>Peterborough             </td><td>3</td></tr>",
                            "<tr><td>4</td><td>Latha</td><td>Shiva</td><td>36</td><td>50000.00000</td><td>Manchester               </td><td>4</td></tr>",
                            "<tr><td>7</td><td>Sara</td><td>Patel</td><td>34</td><td>36000.00000</td><td>Wales                    </td><td>1</td></tr>",
                            "<tr><td>9</td><td>Joe</td><td>Laton</td><td>32</td><td>41000.00000</td><td>Manchester               </td><td>3</td></tr>",
                            "</table>"
                        ]
                    }
                }
            ],
            "execution_count": 19
        },
        {
            "cell_type": "code",
            "source": [
                "SELECT * FROM employer_table WHERE Dep_ID = 3;"
            ],
            "metadata": {
                "azdata_cell_guid": "9a0acd40-8462-44a4-be11-83c621a76efa"
            },
            "outputs": [
                {
                    "output_type": "display_data",
                    "data": {
                        "text/html": "(3 rows affected)"
                    },
                    "metadata": {}
                },
                {
                    "output_type": "display_data",
                    "data": {
                        "text/html": "Total execution time: 00:00:00.079"
                    },
                    "metadata": {}
                },
                {
                    "output_type": "execute_result",
                    "metadata": {
                        "resultSet": {
                            "id": 0,
                            "batchId": 0,
                            "rowCount": 3,
                            "complete": true,
                            "columnInfo": [
                                {
                                    "isBytes": false,
                                    "isChars": false,
                                    "isSqlVariant": false,
                                    "isUdt": false,
                                    "isXml": false,
                                    "isJson": false,
                                    "sqlDbType": 8,
                                    "isHierarchyId": false,
                                    "isSqlXmlType": false,
                                    "isUnknownType": false,
                                    "isUpdatable": true,
                                    "allowDBNull": false,
                                    "baseCatalogName": null,
                                    "baseColumnName": null,
                                    "baseSchemaName": null,
                                    "baseServerName": null,
                                    "baseTableName": null,
                                    "columnName": "Emp_ID",
                                    "columnOrdinal": 0,
                                    "columnSize": 4,
                                    "isAliased": null,
                                    "isAutoIncrement": false,
                                    "isExpression": null,
                                    "isHidden": null,
                                    "isIdentity": false,
                                    "isKey": null,
                                    "isLong": false,
                                    "isReadOnly": false,
                                    "isUnique": false,
                                    "numericPrecision": 10,
                                    "numericScale": 255,
                                    "udtAssemblyQualifiedName": null,
                                    "dataType": "System.Int32, System.Private.CoreLib, Version=4.0.0.0, Culture=neutral, PublicKeyToken=7cec85d7bea7798e",
                                    "dataTypeName": "int"
                                },
                                {
                                    "isBytes": false,
                                    "isChars": true,
                                    "isSqlVariant": false,
                                    "isUdt": false,
                                    "isXml": false,
                                    "isJson": false,
                                    "sqlDbType": 22,
                                    "isHierarchyId": false,
                                    "isSqlXmlType": false,
                                    "isUnknownType": false,
                                    "isUpdatable": true,
                                    "allowDBNull": false,
                                    "baseCatalogName": null,
                                    "baseColumnName": null,
                                    "baseSchemaName": null,
                                    "baseServerName": null,
                                    "baseTableName": null,
                                    "columnName": "Emp_FirstName",
                                    "columnOrdinal": 1,
                                    "columnSize": 20,
                                    "isAliased": null,
                                    "isAutoIncrement": false,
                                    "isExpression": null,
                                    "isHidden": null,
                                    "isIdentity": false,
                                    "isKey": null,
                                    "isLong": false,
                                    "isReadOnly": false,
                                    "isUnique": false,
                                    "numericPrecision": 255,
                                    "numericScale": 255,
                                    "udtAssemblyQualifiedName": null,
                                    "dataType": "System.String, System.Private.CoreLib, Version=4.0.0.0, Culture=neutral, PublicKeyToken=7cec85d7bea7798e",
                                    "dataTypeName": "varchar"
                                },
                                {
                                    "isBytes": false,
                                    "isChars": true,
                                    "isSqlVariant": false,
                                    "isUdt": false,
                                    "isXml": false,
                                    "isJson": false,
                                    "sqlDbType": 22,
                                    "isHierarchyId": false,
                                    "isSqlXmlType": false,
                                    "isUnknownType": false,
                                    "isUpdatable": true,
                                    "allowDBNull": false,
                                    "baseCatalogName": null,
                                    "baseColumnName": null,
                                    "baseSchemaName": null,
                                    "baseServerName": null,
                                    "baseTableName": null,
                                    "columnName": "Emp_LastName",
                                    "columnOrdinal": 2,
                                    "columnSize": 20,
                                    "isAliased": null,
                                    "isAutoIncrement": false,
                                    "isExpression": null,
                                    "isHidden": null,
                                    "isIdentity": false,
                                    "isKey": null,
                                    "isLong": false,
                                    "isReadOnly": false,
                                    "isUnique": false,
                                    "numericPrecision": 255,
                                    "numericScale": 255,
                                    "udtAssemblyQualifiedName": null,
                                    "dataType": "System.String, System.Private.CoreLib, Version=4.0.0.0, Culture=neutral, PublicKeyToken=7cec85d7bea7798e",
                                    "dataTypeName": "varchar"
                                },
                                {
                                    "isBytes": false,
                                    "isChars": false,
                                    "isSqlVariant": false,
                                    "isUdt": false,
                                    "isXml": false,
                                    "isJson": false,
                                    "sqlDbType": 8,
                                    "isHierarchyId": false,
                                    "isSqlXmlType": false,
                                    "isUnknownType": false,
                                    "isUpdatable": true,
                                    "allowDBNull": true,
                                    "baseCatalogName": null,
                                    "baseColumnName": null,
                                    "baseSchemaName": null,
                                    "baseServerName": null,
                                    "baseTableName": null,
                                    "columnName": "Emp_Age",
                                    "columnOrdinal": 3,
                                    "columnSize": 4,
                                    "isAliased": null,
                                    "isAutoIncrement": false,
                                    "isExpression": null,
                                    "isHidden": null,
                                    "isIdentity": false,
                                    "isKey": null,
                                    "isLong": false,
                                    "isReadOnly": false,
                                    "isUnique": false,
                                    "numericPrecision": 10,
                                    "numericScale": 255,
                                    "udtAssemblyQualifiedName": null,
                                    "dataType": "System.Int32, System.Private.CoreLib, Version=4.0.0.0, Culture=neutral, PublicKeyToken=7cec85d7bea7798e",
                                    "dataTypeName": "int"
                                },
                                {
                                    "isBytes": false,
                                    "isChars": false,
                                    "isSqlVariant": false,
                                    "isUdt": false,
                                    "isXml": false,
                                    "isJson": false,
                                    "sqlDbType": 5,
                                    "isHierarchyId": false,
                                    "isSqlXmlType": false,
                                    "isUnknownType": false,
                                    "isUpdatable": true,
                                    "allowDBNull": false,
                                    "baseCatalogName": null,
                                    "baseColumnName": null,
                                    "baseSchemaName": null,
                                    "baseServerName": null,
                                    "baseTableName": null,
                                    "columnName": "Emp_Salary",
                                    "columnOrdinal": 4,
                                    "columnSize": 17,
                                    "isAliased": null,
                                    "isAutoIncrement": false,
                                    "isExpression": null,
                                    "isHidden": null,
                                    "isIdentity": false,
                                    "isKey": null,
                                    "isLong": false,
                                    "isReadOnly": false,
                                    "isUnique": false,
                                    "numericPrecision": 18,
                                    "numericScale": 5,
                                    "udtAssemblyQualifiedName": null,
                                    "dataType": "System.Decimal, System.Private.CoreLib, Version=4.0.0.0, Culture=neutral, PublicKeyToken=7cec85d7bea7798e",
                                    "dataTypeName": "decimal"
                                },
                                {
                                    "isBytes": false,
                                    "isChars": false,
                                    "isSqlVariant": false,
                                    "isUdt": false,
                                    "isXml": false,
                                    "isJson": false,
                                    "sqlDbType": 3,
                                    "isHierarchyId": false,
                                    "isSqlXmlType": false,
                                    "isUnknownType": false,
                                    "isUpdatable": true,
                                    "allowDBNull": true,
                                    "baseCatalogName": null,
                                    "baseColumnName": null,
                                    "baseSchemaName": null,
                                    "baseServerName": null,
                                    "baseTableName": null,
                                    "columnName": "Emp_Address",
                                    "columnOrdinal": 5,
                                    "columnSize": 25,
                                    "isAliased": null,
                                    "isAutoIncrement": false,
                                    "isExpression": null,
                                    "isHidden": null,
                                    "isIdentity": false,
                                    "isKey": null,
                                    "isLong": false,
                                    "isReadOnly": false,
                                    "isUnique": false,
                                    "numericPrecision": 255,
                                    "numericScale": 255,
                                    "udtAssemblyQualifiedName": null,
                                    "dataType": "System.String, System.Private.CoreLib, Version=4.0.0.0, Culture=neutral, PublicKeyToken=7cec85d7bea7798e",
                                    "dataTypeName": "char"
                                },
                                {
                                    "isBytes": false,
                                    "isChars": false,
                                    "isSqlVariant": false,
                                    "isUdt": false,
                                    "isXml": false,
                                    "isJson": false,
                                    "sqlDbType": 8,
                                    "isHierarchyId": false,
                                    "isSqlXmlType": false,
                                    "isUnknownType": false,
                                    "isUpdatable": true,
                                    "allowDBNull": false,
                                    "baseCatalogName": null,
                                    "baseColumnName": null,
                                    "baseSchemaName": null,
                                    "baseServerName": null,
                                    "baseTableName": null,
                                    "columnName": "Dep_ID",
                                    "columnOrdinal": 6,
                                    "columnSize": 4,
                                    "isAliased": null,
                                    "isAutoIncrement": false,
                                    "isExpression": null,
                                    "isHidden": null,
                                    "isIdentity": false,
                                    "isKey": null,
                                    "isLong": false,
                                    "isReadOnly": false,
                                    "isUnique": false,
                                    "numericPrecision": 10,
                                    "numericScale": 255,
                                    "udtAssemblyQualifiedName": null,
                                    "dataType": "System.Int32, System.Private.CoreLib, Version=4.0.0.0, Culture=neutral, PublicKeyToken=7cec85d7bea7798e",
                                    "dataTypeName": "int"
                                }
                            ],
                            "specialAction": {
                                "none": true,
                                "expectYukonXMLShowPlan": false
                            }
                        }
                    },
                    "execution_count": 20,
                    "data": {
                        "application/vnd.dataresource+json": {
                            "schema": {
                                "fields": [
                                    {
                                        "name": "Emp_ID"
                                    },
                                    {
                                        "name": "Emp_FirstName"
                                    },
                                    {
                                        "name": "Emp_LastName"
                                    },
                                    {
                                        "name": "Emp_Age"
                                    },
                                    {
                                        "name": "Emp_Salary"
                                    },
                                    {
                                        "name": "Emp_Address"
                                    },
                                    {
                                        "name": "Dep_ID"
                                    }
                                ]
                            },
                            "data": [
                                {
                                    "0": "2",
                                    "1": "Sai",
                                    "2": "Ram",
                                    "3": "30",
                                    "4": "45000.00000",
                                    "5": "Peterborough             ",
                                    "6": "3"
                                },
                                {
                                    "0": "5",
                                    "1": "Alfa",
                                    "2": "Beta",
                                    "3": "28",
                                    "4": "25000.00000",
                                    "5": "Luton                    ",
                                    "6": "3"
                                },
                                {
                                    "0": "9",
                                    "1": "Joe",
                                    "2": "Laton",
                                    "3": "32",
                                    "4": "41000.00000",
                                    "5": "Manchester               ",
                                    "6": "3"
                                }
                            ]
                        },
                        "text/html": [
                            "<table>",
                            "<tr><th>Emp_ID</th><th>Emp_FirstName</th><th>Emp_LastName</th><th>Emp_Age</th><th>Emp_Salary</th><th>Emp_Address</th><th>Dep_ID</th></tr>",
                            "<tr><td>2</td><td>Sai</td><td>Ram</td><td>30</td><td>45000.00000</td><td>Peterborough             </td><td>3</td></tr>",
                            "<tr><td>5</td><td>Alfa</td><td>Beta</td><td>28</td><td>25000.00000</td><td>Luton                    </td><td>3</td></tr>",
                            "<tr><td>9</td><td>Joe</td><td>Laton</td><td>32</td><td>41000.00000</td><td>Manchester               </td><td>3</td></tr>",
                            "</table>"
                        ]
                    }
                }
            ],
            "execution_count": 20
        }
    ]
}