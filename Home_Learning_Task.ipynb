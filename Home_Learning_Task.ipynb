{
 "cells": [
  {
   "cell_type": "markdown",
   "metadata": {},
   "source": [
    "# Task 1:\n",
    "Write a program that asks the user for an integer number and checks if it is > 10. If it is, it will print “Number is Greater than 10”, else “Number is smaller than 10”."
   ]
  },
  {
   "cell_type": "code",
   "execution_count": 1,
   "metadata": {},
   "outputs": [
    {
     "name": "stdout",
     "output_type": "stream",
     "text": [
      "Enter some interger number: 9\n",
      "Number is smaller than 10\n"
     ]
    }
   ],
   "source": [
    "# Asking the user to enter two numbers.\n",
    "number = int(input(\"Enter some integer number: \"))\n",
    "\n",
    "# Creating if condition to chech whether the given number is greater than 10 or less than 10.\n",
    "if number > 10 :\n",
    "    print(\"Number is Greater than 10\")\n",
    "else :\n",
    "    print(\"Number is smaller than 10\") "
   ]
  },
  {
   "cell_type": "markdown",
   "metadata": {},
   "source": [
    "# Task 2:\n",
    "Then write a loop program that ask the user for an integer number and check if it is < 10. If it is < 10 then it keeps adding 1 to the value."
   ]
  },
  {
   "cell_type": "code",
   "execution_count": 14,
   "metadata": {},
   "outputs": [
    {
     "name": "stdout",
     "output_type": "stream",
     "text": [
      "Enter some integer number: 5\n",
      "Number is:  6\n",
      "Number is:  7\n",
      "Number is:  8\n",
      "Number is:  9\n",
      "Number is:  10\n",
      "Number is Greater than 10\n"
     ]
    }
   ],
   "source": [
    "# Asking the user to enter two numbers.\n",
    "number_1 = int(input(\"Enter some integer number: \"))\n",
    "\n",
    "# creating while loop to check given number is less than 10 or greater than 10. \n",
    "while number_1 < 10 :\n",
    "\n",
    "# if the number is less than 10 then it keeps adding 1 to the value.    \n",
    "    number_1 += 1\n",
    "    print(\"Number is: \", number_1)\n",
    "    \n",
    "else:\n",
    "    print(\"Number is Greater than 10\")\n",
    "    "
   ]
  },
  {
   "cell_type": "code",
   "execution_count": null,
   "metadata": {},
   "outputs": [],
   "source": []
  },
  {
   "cell_type": "code",
   "execution_count": null,
   "metadata": {},
   "outputs": [],
   "source": []
  },
  {
   "cell_type": "code",
   "execution_count": null,
   "metadata": {},
   "outputs": [],
   "source": []
  },
  {
   "cell_type": "code",
   "execution_count": null,
   "metadata": {},
   "outputs": [],
   "source": []
  }
 ],
 "metadata": {
  "kernelspec": {
   "display_name": "Python 3",
   "language": "python",
   "name": "python3"
  },
  "language_info": {
   "codemirror_mode": {
    "name": "ipython",
    "version": 3
   },
   "file_extension": ".py",
   "mimetype": "text/x-python",
   "name": "python",
   "nbconvert_exporter": "python",
   "pygments_lexer": "ipython3",
   "version": "3.8.3"
  }
 },
 "nbformat": 4,
 "nbformat_minor": 4
}
